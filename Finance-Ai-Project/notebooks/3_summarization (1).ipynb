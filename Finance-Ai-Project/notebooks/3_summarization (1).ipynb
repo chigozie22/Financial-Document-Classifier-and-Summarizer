{
  "cells": [
    {
      "cell_type": "code",
      "execution_count": 1,
      "id": "6917f138",
      "metadata": {
        "id": "6917f138"
      },
      "outputs": [],
      "source": [
        "import pandas as pd\n",
        "import os\n",
        "from transformers import PegasusTokenizer\n",
        "from datasets import Dataset, DatasetDict\n",
        "from transformers import PegasusForConditionalGeneration\n",
        "from transformers import Seq2SeqTrainingArguments, Seq2SeqTrainer, DataCollatorForSeq2Seq"
      ]
    },
    {
      "cell_type": "code",
      "execution_count": null,
      "id": "3cde2074",
      "metadata": {
        "colab": {
          "base_uri": "https://localhost:8080/"
        },
        "id": "3cde2074",
        "outputId": "5a96d7dc-0a01-422d-fd3f-0eca11ddd476"
      },
      "outputs": [
        {
          "name": "stdout",
          "output_type": "stream",
          "text": [
            "Mounted at /content/drive\n"
          ]
        }
      ],
      "source": [
        "# from google.colab import drive\n",
        "# drive.mount('/content/drive')"
      ]
    },
    {
      "cell_type": "code",
      "execution_count": null,
      "id": "AI_3HE0nm6Gn",
      "metadata": {
        "id": "AI_3HE0nm6Gn"
      },
      "outputs": [],
      "source": [
        "# !pip install evaluate"
      ]
    },
    {
      "cell_type": "code",
      "execution_count": null,
      "id": "tAu_MZPMmbjk",
      "metadata": {
        "id": "tAu_MZPMmbjk"
      },
      "outputs": [],
      "source": [
        "# pip install datasets"
      ]
    },
    {
      "cell_type": "code",
      "execution_count": 3,
      "id": "74913ad5",
      "metadata": {
        "id": "74913ad5"
      },
      "outputs": [],
      "source": [
        "# from evaluate import load_metric\n",
        "import numpy as np\n",
        "import matplotlib.pyplot as plt\n",
        "import torch"
      ]
    },
    {
      "cell_type": "code",
      "execution_count": null,
      "id": "96b38a7a",
      "metadata": {
        "id": "96b38a7a"
      },
      "outputs": [],
      "source": [
        "# df = pd.concat(pd.read_csv(os.path.join(folder_path,filename)) for filename in os.listdir(folder_path) if filename.endswith(\".csv\"))"
      ]
    },
    {
      "cell_type": "code",
      "execution_count": 8,
      "id": "tQLsbneKuSh7",
      "metadata": {
        "id": "tQLsbneKuSh7"
      },
      "outputs": [],
      "source": [
        "df_1 = pd.read_csv(\"/content/drive/MyDrive/Summarizer/train_liquidity_segment_0_input_2_1000.csv\")"
      ]
    },
    {
      "cell_type": "code",
      "execution_count": 9,
      "id": "uphpwzP5Xk46",
      "metadata": {
        "id": "uphpwzP5Xk46"
      },
      "outputs": [],
      "source": [
        "df_2 = pd.read_csv(\"/content/drive/MyDrive/Summarizer/train_roo_segment_0_input_2_1000.csv\")"
      ]
    },
    {
      "cell_type": "code",
      "execution_count": 10,
      "id": "a74ced4d",
      "metadata": {
        "id": "a74ced4d"
      },
      "outputs": [],
      "source": [
        "# train_df.head()[:1].to_dict()"
      ]
    },
    {
      "cell_type": "code",
      "execution_count": 11,
      "id": "pcx6TIeouhec",
      "metadata": {
        "id": "pcx6TIeouhec"
      },
      "outputs": [],
      "source": [
        "df = pd.concat([df_1[:600], df_2[:600]])"
      ]
    },
    {
      "cell_type": "code",
      "execution_count": null,
      "id": "wXFToYJGfY7s",
      "metadata": {
        "colab": {
          "base_uri": "https://localhost:8080/"
        },
        "id": "wXFToYJGfY7s",
        "outputId": "ac14ec56-6d33-412f-9a43-1941675c672b"
      },
      "outputs": [
        {
          "data": {
            "text/plain": [
              "(1200, 2)"
            ]
          },
          "execution_count": 10,
          "metadata": {},
          "output_type": "execute_result"
        }
      ],
      "source": [
        "df.shape"
      ]
    },
    {
      "cell_type": "code",
      "execution_count": null,
      "id": "HM0KXl3I0mQV",
      "metadata": {
        "colab": {
          "base_uri": "https://localhost:8080/"
        },
        "id": "HM0KXl3I0mQV",
        "outputId": "4fd4684d-f3e7-437e-ed2e-120218855de8"
      },
      "outputs": [
        {
          "name": "stdout",
          "output_type": "stream",
          "text": [
            "document\n",
            "<class 'str'>    1200\n",
            "Name: count, dtype: int64\n",
            "summary\n",
            "<class 'str'>    1200\n",
            "Name: count, dtype: int64\n"
          ]
        }
      ],
      "source": [
        "print(df[\"document\"].apply(type).value_counts())\n",
        "print(df[\"summary\"].apply(type).value_counts())\n"
      ]
    },
    {
      "cell_type": "markdown",
      "id": "5eccff36",
      "metadata": {
        "id": "5eccff36"
      },
      "source": [
        "Preprocessing - Tokenizing"
      ]
    },
    {
      "cell_type": "code",
      "execution_count": null,
      "id": "820ff06a",
      "metadata": {
        "id": "820ff06a"
      },
      "outputs": [],
      "source": [
        "model_name = \"google/pegasus-xsum\" #use if you have enough compute"
      ]
    },
    {
      "cell_type": "code",
      "execution_count": null,
      "id": "c5cb1b29",
      "metadata": {
        "id": "c5cb1b29"
      },
      "outputs": [],
      "source": [
        "tokenizer = PegasusTokenizer.from_pretrained(model_name)\n",
        "\n",
        "def process_inputs(examples):\n",
        "  model_inputs = tokenizer(\n",
        "        examples[\"document\"],\n",
        "        max_length=512,\n",
        "        truncation=True,\n",
        "        padding=\"max_length\",\n",
        "        return_tensors=None,\n",
        "    )\n",
        "  labels = tokenizer(\n",
        "        examples[\"summary\"],\n",
        "        max_length=128,\n",
        "        truncation=True,\n",
        "        padding=\"max_length\",\n",
        "        return_tensors=None,\n",
        "    )\n",
        "  model_inputs[\"labels\"] = labels[\"input_ids\"]\n",
        "  return model_inputs"
      ]
    },
    {
      "cell_type": "code",
      "execution_count": 12,
      "id": "f9775808",
      "metadata": {
        "id": "f9775808"
      },
      "outputs": [],
      "source": [
        "raw_dataset = Dataset.from_pandas(df)"
      ]
    },
    {
      "cell_type": "code",
      "execution_count": null,
      "id": "_cmj0HGb1PMP",
      "metadata": {
        "colab": {
          "base_uri": "https://localhost:8080/",
          "height": 140
        },
        "id": "_cmj0HGb1PMP",
        "outputId": "bca61202-6bf0-4545-e1b8-6d3fbccbf249"
      },
      "outputs": [
        {
          "data": {
            "application/vnd.google.colaboratory.intrinsic+json": {
              "type": "string"
            },
            "text/plain": [
              "\"gross profit for plant nutrition north america was favorably impacted by higher sales volumes and lower per-unit product costs , which were partially offset by increased per-unit shipping and handling costs and higher depreciation expense during 2017. a $ 61.6 million decrease in salt segment gross margin partially offset the combined plant nutrition business ' increase . the decrease resulted from lower sales volumes , increased per-unit product and increased shipping and handling costs , and higher depreciation expense . gross profit & gross margin commentary : 2015 – 2016 gross profit : decreased 9 % , or $ 30.6 million ; gross margin decreased 4 percentage points to 26 % from 30 % salt gross profit declined $ 17.1 million primarily due to reduced sales prices and higher per-unit production costs . the decrease was partially offset by lower logistics costs . the plant nutrition business , on a combined basis , contributed $ 10.8 million to the decrease in gross profit primarily due to lower average sales prices realized in our plant nutrition north america segment , partially offset by the inclusion of the results from produquímica following the acquisition in october 2016. in addition , plant nutrition north america experienced higher per-unit shipping and handling costs . other expenses and income commentary : 2016 – 2017 sg & a : increased $ 42.5 million , which represented a 1.3 percentage points of sales increase to 12.3 % from 11.0 % the increase in sg & a expense was primarily due to the full year inclusion of produquímica in our operating results in 2017 and approximately $ 2 million in higher corporate depreciation related to a significant software system upgrade . in addition , we incurred charges of approximately $ 2 million related to ongoing restructuring activities primarily impacting corporate sg & a . interest expense : increased $ 18.8 million to $ 52.9 million the increase was primarily due to our higher aggregate debt level driven by the acquisition of produquímica , which was partially offset by lower interest rates due to the refinancing of our term loans and revolving credit facility in april 2016. net ( earnings ) loss in equity investee : increased from a loss of $ 1.4 million to earnings of $ 0.8 million the $ 0.8 million of earnings in 2017 represents our share of fermavi eletroquímica ltda . 's ( “ fermavi ” ) net earnings . as a result of the full acquisition of produquímica , we hold a 50 % interest in fermavi , which was previously held by produquímica . the $ 1.4 million loss in 2016 was primarily comprised of our share of produquímica 's net loss based on our initial 35 % equity interest in produquímica prior to the full acquisition . gain from remeasurement of equity method investment we recognized a gain of $ 59.3 million in 2016 related to our previously held equity investment in produquímica , which was remeasured to fair value upon our full acquisition of the business in october 2016. other expense ( income ) , net : increased $ 3.3 million to $ 4.4 million the increase was primarily due to foreign exchange losses of $ 7.1 million in 2017 , compared to losses of $ 0.1 million in 2016. the increase was partially offset by the inclusion of $ 3.0 million of refinancing fees in 2016 and increased interest income in 2017. income tax expense : increased $ 25.4 million to $ 60.0 million income tax expense and our income tax rate increased in 2017 due to the impact of u.s. tax reform , which resulted in an increase in tax expense of $ 46.8 million , and due to a tax settlement agreement . these increases were partially offset by the release of valuation allowances related to our brazil business . our effective tax rate was 58 % in 2017 and 18 % in 2016. our effective tax rates were impacted by u.s. tax reform and a tax settlement agreement in 2017 and the non-taxable gain recognized from the remeasurement of our previously held equity investment in produquímica in 2016. replace_table_token_38_th compass minerals international , inc. our income tax provision in both periods differs from the u.s. statutory rate primarily due to u.s. statutory depletion , domestic manufacturing deductions , state income taxes , foreign income , mining and withholding taxes and interest expense recognition differences for tax and financial reporting purposes . other expenses and income commentary : 2015 – 2016 sg & a : increased $ 16.2 million , which represented a 1.1 percentage points of sales increase to 9.9 % from 11.0 % the increase in expense was due to the inclusion of produquímica 's results and higher expenses in our plant nutrition north america segment due to the $ 3.1 million partial impairment of our wolf trax trade name and corporate restructuring costs . this increase was partially offset by a decrease of $ 2.0 million in corporate professional services and a decrease of $ 1.8 million in marketing expenses in our plant nutrition north america and salt segments . interest expense : increased $ 12.6 million to $ 34.1 million the increase was primarily due to our higher aggregate debt level driven by the acquisition of produquímica , which was partially offset by lower interest rates due to the refinancing of our term loans and revolving credit facility in april 2016. net ( earnings ) loss in equity investee : loss of $ 1.4 million the $ 1.4 million in 2016 was primarily comprised of our share of produquímica 's net loss based on our initial 35 % equity interest in produquímica prior to the full acquisition . story_separator_special_tag net cash flows provided by operating activities were $ 167.3 million . » net earnings were $ 162.7 million which included a non-cash remeasurement gain of $ 59.3 million related to the acquisition of produquímica . » non-cash depreciation and amortization expense was $ 90.3 million . » working capital items were a use of operating cash flows of $ 31.7 million . net cash flows provided by operating activities were $ 137.9 million . » net earnings were $ 159.2 million . » non-cash depreciation and amortization expense was $ 78.3 million . » working capital items were a use of operating cash flows of $ 111.0 million . investing activities : net cash flows used by investing activities were $ 119.0 million . » included $ 114.1 million of capital expenditures . net cash flows used by investing activities were $ 467.8 million . » included $ 182.2 million of capital expenditures and cash payments of $ 4.7 million relating to our previously held equity investment and $ 277.7 million for the full acquisition of produquímica . net cash flows used by investing activities were $ 335.4 million . » included $ 217.6 million of capital expenditures and an equity investment of $ 116.4 million . financing activities : net cash flows used by financing activities were $ 73.4 million . » included net proceeds from issuance of debt of $ 38.7 million , payments of dividends of $ 97.5 million and payments of $ 14.7 million related to contingent consideration from the produquímica acquisition . net cash flows provided by financing activities were $ 314.6 million . » included net proceeds from issuance of debt of $ 416.7 million , payments of dividends of $ 94.1 million and payments of $ 8.5 million related to the refinancing of debt . net cash flows provided by financing activities were $ 14.2 million . » primarily related to new debt used to finance the produquímica investment of $ 100 million , partially offset by the payment of dividends of $ 89.4 million . replace_table_token_46_th compass minerals international , inc. story_separator_special_tag style= `` font-family : inherit ; font-size:8pt ; `` > we lease property and equipment under non-cancelable operating and capital leases for varying periods . ( c ) we have contracts to purchase certain amounts of electricity , equipment and raw materials . in addition , we have minimum throughput commitments in certain depots and warehouses . ( d ) note 8 to our consolidated financial statements provides additional information . ( e ) note 11 to our consolidated financial statements provides additional information . sensitivity analysis related to ebitda and adjusted ebitda management uses a variety of measures to evaluate our performance . while our consolidated financial statements , taken as a whole , provide an understanding of our overall results of operations , financial condition and cash flows , we analyze components of the consolidated financial statements to identify certain trends and evaluate specific performance areas . in addition to using u.s. generally accepted accounting principles ( “ gaap ” ) financial measures , such as gross profit , net earnings and cash flows generated by operating activities , management uses ebitda and adjusted ebitda . both ebitda and adjusted ebitda are non-gaap financial measures used to evaluate the operating performance of our core business operations because our resource allocation , financing methods and cost of capital , and income tax positions are managed at a corporate level , apart from the activities of the operating segments , and the operating facilities are located in different taxing jurisdictions , which can cause considerable variation in net earnings . we also use ebitda and adjusted ebitda to assess our operating performance and return on capital against other companies , and to evaluate potential acquisitions or other capital projects . ebitda and adjusted ebitda are not calculated under u.s. gaap and should not be considered in isolation or as a substitute for net earnings , cash flows or other financial data prepared in accordance with u.s. gaap or as a measure of our overall profitability or liquidity . ebitda and adjusted ebitda exclude interest expense , income taxes and depreciation and amortization , each of which are an essential element of our cost structure and can not be eliminated . furthermore , adjusted ebitda excludes other cash and non-cash items , including restructuring costs , refinancing costs and other ( income ) expense . our borrowings are a significant component of our capital structure and interest expense is a continuing cost of debt . we are also required to pay income taxes , a required and ongoing consequence of our operations . we have a significant investment in capital assets and depreciation and amortization reflect the utilization of those assets in order to generate revenues . consequently , any measure that excludes these elements has material limitations . while ebitda and adjusted ebitda are frequently used as measures of operating performance , these terms are not necessarily comparable to similarly titled measures of other companies due to the potential inconsistencies in the method of calculation . replace_table_token_49_th compass minerals international , inc. the calculation of ebitda and adjusted ebitda as used by management is set forth in the table below ( in millions ) . replace_table_token_50_th in 2017 , we incurred charges of $ 4.3 million related to ongoing restructuring activities . key adjustments in 2016 included a gain of $ 59.3 million related to the remeasurement of our previously held equity investment in produquímica ( see note 3 to our consolidated financial statements ) and $ 8.4 million of costs in connection with the acquisition of produquímica , primarily related to the step-up of finished goods inventory to fair value , which was recorded in product cost as the inventory was sold . in the fourth quarter of 2016 , we also partially wrote-down a trade name acquired in our wolf trax acquisition . ebitda also includes other\\n\""
            ]
          },
          "execution_count": 15,
          "metadata": {},
          "output_type": "execute_result"
        }
      ],
      "source": [
        "raw_dataset[0][\"document\"]"
      ]
    },
    {
      "cell_type": "code",
      "execution_count": 13,
      "id": "a56cfa6e",
      "metadata": {
        "id": "a56cfa6e"
      },
      "outputs": [],
      "source": [
        "split_dataset = raw_dataset.train_test_split(test_size=0.2)"
      ]
    },
    {
      "cell_type": "code",
      "execution_count": null,
      "id": "B03CGGkVNujo",
      "metadata": {
        "colab": {
          "base_uri": "https://localhost:8080/",
          "height": 81,
          "referenced_widgets": [
            "8ba43347511848099e808ea02c9ac4cb",
            "27e1bdece2ec436b80029129f82d0e8b",
            "b7b9fd7097aa4cac9c026c9ef4b076af",
            "8d55c3fc16a34aeab0de362d42326006",
            "1c85459b504b4bd5a196b40716a8864b",
            "848d1e4f20114659b70a899a21556c59",
            "459c545c2ec746eeae75e644a4c52736",
            "f9bbe8f81d6b4e659e61a22df1221eb8",
            "fe0fa2dbe30b4621af2279bc8eb54f5a",
            "899c2ca910c540d79ace03cf2b0bbedd",
            "5a239b4b694044249cfded716e5698d3",
            "a02d65ded8b243a28cb8009266ee26ec",
            "fa552bc33e1849519e3491b19f1a8099",
            "0b736cdd1de44c82b4cbdf3035ebe77c",
            "7bfe9584a74e40acb23b3ac13c46267d",
            "021c688b18ca459a874d1ef39f49a434",
            "7ae03535006f4012a67e550c9a379561",
            "10c5683f3e6c4914899c3045ff3b7715",
            "b27a48122f36410dab4ce128a60dc0b2",
            "12a14371b1d941a0ba70e76e6f052f27",
            "1cb2d0ec1bdf4b2bba836bd84cd07fbe",
            "784a3e18c1de438bbca23f4df2d066bf"
          ]
        },
        "id": "B03CGGkVNujo",
        "outputId": "2f976c09-4e49-42fb-eae3-6c53f2e6cce1"
      },
      "outputs": [
        {
          "data": {
            "application/vnd.jupyter.widget-view+json": {
              "model_id": "8ba43347511848099e808ea02c9ac4cb",
              "version_major": 2,
              "version_minor": 0
            },
            "text/plain": [
              "Map:   0%|          | 0/960 [00:00<?, ? examples/s]"
            ]
          },
          "metadata": {},
          "output_type": "display_data"
        },
        {
          "data": {
            "application/vnd.jupyter.widget-view+json": {
              "model_id": "a02d65ded8b243a28cb8009266ee26ec",
              "version_major": 2,
              "version_minor": 0
            },
            "text/plain": [
              "Map:   0%|          | 0/240 [00:00<?, ? examples/s]"
            ]
          },
          "metadata": {},
          "output_type": "display_data"
        }
      ],
      "source": [
        "tokenized_dataset = split_dataset.map(process_inputs, batched=True, remove_columns=split_dataset[\"train\"].column_names)"
      ]
    },
    {
      "cell_type": "markdown",
      "id": "2Ggit1dwQ4Oz",
      "metadata": {
        "id": "2Ggit1dwQ4Oz"
      },
      "source": []
    },
    {
      "cell_type": "code",
      "execution_count": null,
      "id": "Tm1WV2ckOlcQ",
      "metadata": {
        "colab": {
          "base_uri": "https://localhost:8080/",
          "height": 168,
          "referenced_widgets": [
            "569654d16bcc43bba141454eb801eccf",
            "6acad173e0804caa9e9490f216b853ff",
            "f07475fdc8b64c1abf96695b6217c354",
            "22a4012778fe4632be484ce9b9990d1e",
            "a75b0d4513b9442f8069db017b72e0c9",
            "6f685bce85c64e29b81961b625670379",
            "d0642348d55a4558aba01a76274921df",
            "76491e3f0c774b3ea44390ca5e2c38ad",
            "16d3c3d9af3843be9d259af0dc4fc5ec",
            "630e44ae25b34a33ad20d068633cbc4c",
            "35828751da0c4cc58c6b49a2e05b208c",
            "9d0d4c9801ce44a3a726fdf23b2dae89",
            "5dfe8151cad54741ac061915050f7152",
            "1e8d5b4f15044491ba7ef59971fea091",
            "845b9d351fbe498e9c84b646c483ea2b",
            "27ffc49aec9f4acc991db921db95b3e1",
            "81b3c7df01454523a15397aa2387be76",
            "82bcf278569546d7a02dc1259f0ec7d0",
            "f961f90cdfdb4a85a2d971d2f120a190",
            "8814bbda9fdc47f8bc2107fb32f46847",
            "b7924468306d4a8989b2cdf29f9b7892",
            "a2ebda5cd5634c73b28f8fdfbefb4206",
            "c07ea6364dc644098af6a5453940f595",
            "7e20ebeaeeaa475e9b72dc034250cf67",
            "6371d49f49f24204abe7060291ba42f3",
            "1c822737133f4135b5863c094994ef53",
            "f64a270395ca4aed9d1db05ff9fa6b9a",
            "0f26eebd6b4447e6872fdb88ca12d005",
            "9d988cca61924d7683d86cf778046a79",
            "54c00bb5280649169f3fc3ad3d62fe6a",
            "819623d0e34d45a49da369f03a97365c",
            "03ba55eb4e4d4ea3bdf3f5e5e1c5c619",
            "a35d56a1ecab438fb2b58972a71140cb"
          ]
        },
        "id": "Tm1WV2ckOlcQ",
        "outputId": "1ce55678-60e1-41aa-e856-8446ac7d605d"
      },
      "outputs": [
        {
          "data": {
            "application/vnd.jupyter.widget-view+json": {
              "model_id": "569654d16bcc43bba141454eb801eccf",
              "version_major": 2,
              "version_minor": 0
            },
            "text/plain": [
              "pytorch_model.bin:   0%|          | 0.00/2.28G [00:00<?, ?B/s]"
            ]
          },
          "metadata": {},
          "output_type": "display_data"
        },
        {
          "data": {
            "application/vnd.jupyter.widget-view+json": {
              "model_id": "9d0d4c9801ce44a3a726fdf23b2dae89",
              "version_major": 2,
              "version_minor": 0
            },
            "text/plain": [
              "model.safetensors:   0%|          | 0.00/2.28G [00:00<?, ?B/s]"
            ]
          },
          "metadata": {},
          "output_type": "display_data"
        },
        {
          "name": "stderr",
          "output_type": "stream",
          "text": [
            "Some weights of PegasusForConditionalGeneration were not initialized from the model checkpoint at google/pegasus-xsum and are newly initialized: ['model.decoder.embed_positions.weight', 'model.encoder.embed_positions.weight']\n",
            "You should probably TRAIN this model on a down-stream task to be able to use it for predictions and inference.\n"
          ]
        },
        {
          "data": {
            "application/vnd.jupyter.widget-view+json": {
              "model_id": "c07ea6364dc644098af6a5453940f595",
              "version_major": 2,
              "version_minor": 0
            },
            "text/plain": [
              "generation_config.json:   0%|          | 0.00/259 [00:00<?, ?B/s]"
            ]
          },
          "metadata": {},
          "output_type": "display_data"
        }
      ],
      "source": [
        "model = PegasusForConditionalGeneration.from_pretrained(model_name) #you can use this if you have required compute"
      ]
    },
    {
      "cell_type": "code",
      "execution_count": 5,
      "id": "q3Ag8jPyW-PY",
      "metadata": {
        "colab": {
          "base_uri": "https://localhost:8080/"
        },
        "id": "q3Ag8jPyW-PY",
        "outputId": "f724ee3b-d2e0-44a6-85cd-e369d42d12b6"
      },
      "outputs": [
        {
          "name": "stdout",
          "output_type": "stream",
          "text": [
            "Collecting rouge_score\n",
            "  Downloading rouge_score-0.1.2.tar.gz (17 kB)\n",
            "  Preparing metadata (setup.py) ... \u001b[?25l\u001b[?25hdone\n",
            "Collecting evaluate\n",
            "  Downloading evaluate-0.4.3-py3-none-any.whl.metadata (9.2 kB)\n",
            "Requirement already satisfied: datasets in /usr/local/lib/python3.11/dist-packages (2.14.4)\n",
            "Requirement already satisfied: absl-py in /usr/local/lib/python3.11/dist-packages (from rouge_score) (1.4.0)\n",
            "Requirement already satisfied: nltk in /usr/local/lib/python3.11/dist-packages (from rouge_score) (3.9.1)\n",
            "Requirement already satisfied: numpy in /usr/local/lib/python3.11/dist-packages (from rouge_score) (2.0.2)\n",
            "Requirement already satisfied: six>=1.14.0 in /usr/local/lib/python3.11/dist-packages (from rouge_score) (1.17.0)\n",
            "Requirement already satisfied: dill in /usr/local/lib/python3.11/dist-packages (from evaluate) (0.3.7)\n",
            "Requirement already satisfied: pandas in /usr/local/lib/python3.11/dist-packages (from evaluate) (2.2.2)\n",
            "Requirement already satisfied: requests>=2.19.0 in /usr/local/lib/python3.11/dist-packages (from evaluate) (2.32.3)\n",
            "Requirement already satisfied: tqdm>=4.62.1 in /usr/local/lib/python3.11/dist-packages (from evaluate) (4.67.1)\n",
            "Requirement already satisfied: xxhash in /usr/local/lib/python3.11/dist-packages (from evaluate) (3.5.0)\n",
            "Requirement already satisfied: multiprocess in /usr/local/lib/python3.11/dist-packages (from evaluate) (0.70.15)\n",
            "Requirement already satisfied: fsspec>=2021.05.0 in /usr/local/lib/python3.11/dist-packages (from fsspec[http]>=2021.05.0->evaluate) (2025.3.2)\n",
            "Requirement already satisfied: huggingface-hub>=0.7.0 in /usr/local/lib/python3.11/dist-packages (from evaluate) (0.32.4)\n",
            "Requirement already satisfied: packaging in /usr/local/lib/python3.11/dist-packages (from evaluate) (24.2)\n",
            "Requirement already satisfied: pyarrow>=8.0.0 in /usr/local/lib/python3.11/dist-packages (from datasets) (18.1.0)\n",
            "Requirement already satisfied: aiohttp in /usr/local/lib/python3.11/dist-packages (from datasets) (3.11.15)\n",
            "Requirement already satisfied: pyyaml>=5.1 in /usr/local/lib/python3.11/dist-packages (from datasets) (6.0.2)\n",
            "Requirement already satisfied: aiohappyeyeballs>=2.3.0 in /usr/local/lib/python3.11/dist-packages (from aiohttp->datasets) (2.6.1)\n",
            "Requirement already satisfied: aiosignal>=1.1.2 in /usr/local/lib/python3.11/dist-packages (from aiohttp->datasets) (1.3.2)\n",
            "Requirement already satisfied: attrs>=17.3.0 in /usr/local/lib/python3.11/dist-packages (from aiohttp->datasets) (25.3.0)\n",
            "Requirement already satisfied: frozenlist>=1.1.1 in /usr/local/lib/python3.11/dist-packages (from aiohttp->datasets) (1.6.0)\n",
            "Requirement already satisfied: multidict<7.0,>=4.5 in /usr/local/lib/python3.11/dist-packages (from aiohttp->datasets) (6.4.4)\n",
            "Requirement already satisfied: propcache>=0.2.0 in /usr/local/lib/python3.11/dist-packages (from aiohttp->datasets) (0.3.1)\n",
            "Requirement already satisfied: yarl<2.0,>=1.17.0 in /usr/local/lib/python3.11/dist-packages (from aiohttp->datasets) (1.20.0)\n",
            "Requirement already satisfied: filelock in /usr/local/lib/python3.11/dist-packages (from huggingface-hub>=0.7.0->evaluate) (3.18.0)\n",
            "Requirement already satisfied: typing-extensions>=3.7.4.3 in /usr/local/lib/python3.11/dist-packages (from huggingface-hub>=0.7.0->evaluate) (4.14.0)\n",
            "Requirement already satisfied: hf-xet<2.0.0,>=1.1.2 in /usr/local/lib/python3.11/dist-packages (from huggingface-hub>=0.7.0->evaluate) (1.1.2)\n",
            "Requirement already satisfied: charset-normalizer<4,>=2 in /usr/local/lib/python3.11/dist-packages (from requests>=2.19.0->evaluate) (3.4.2)\n",
            "Requirement already satisfied: idna<4,>=2.5 in /usr/local/lib/python3.11/dist-packages (from requests>=2.19.0->evaluate) (3.10)\n",
            "Requirement already satisfied: urllib3<3,>=1.21.1 in /usr/local/lib/python3.11/dist-packages (from requests>=2.19.0->evaluate) (2.4.0)\n",
            "Requirement already satisfied: certifi>=2017.4.17 in /usr/local/lib/python3.11/dist-packages (from requests>=2.19.0->evaluate) (2025.4.26)\n",
            "Requirement already satisfied: click in /usr/local/lib/python3.11/dist-packages (from nltk->rouge_score) (8.2.1)\n",
            "Requirement already satisfied: joblib in /usr/local/lib/python3.11/dist-packages (from nltk->rouge_score) (1.5.1)\n",
            "Requirement already satisfied: regex>=2021.8.3 in /usr/local/lib/python3.11/dist-packages (from nltk->rouge_score) (2024.11.6)\n",
            "Requirement already satisfied: python-dateutil>=2.8.2 in /usr/local/lib/python3.11/dist-packages (from pandas->evaluate) (2.9.0.post0)\n",
            "Requirement already satisfied: pytz>=2020.1 in /usr/local/lib/python3.11/dist-packages (from pandas->evaluate) (2025.2)\n",
            "Requirement already satisfied: tzdata>=2022.7 in /usr/local/lib/python3.11/dist-packages (from pandas->evaluate) (2025.2)\n",
            "Downloading evaluate-0.4.3-py3-none-any.whl (84 kB)\n",
            "\u001b[2K   \u001b[90m━━━━━━━━━━━━━━━━━━━━━━━━━━━━━━━━━━━━━━━━\u001b[0m \u001b[32m84.0/84.0 kB\u001b[0m \u001b[31m7.4 MB/s\u001b[0m eta \u001b[36m0:00:00\u001b[0m\n",
            "\u001b[?25hBuilding wheels for collected packages: rouge_score\n",
            "  Building wheel for rouge_score (setup.py) ... \u001b[?25l\u001b[?25hdone\n",
            "  Created wheel for rouge_score: filename=rouge_score-0.1.2-py3-none-any.whl size=24934 sha256=80efdc059cae255f67b148aba45aeb7f408c767edd5568ada6ee089e3abfee0f\n",
            "  Stored in directory: /root/.cache/pip/wheels/1e/19/43/8a442dc83660ca25e163e1bd1f89919284ab0d0c1475475148\n",
            "Successfully built rouge_score\n",
            "Installing collected packages: rouge_score, evaluate\n",
            "Successfully installed evaluate-0.4.3 rouge_score-0.1.2\n"
          ]
        }
      ],
      "source": [
        "!pip install rouge_score evaluate datasets"
      ]
    },
    {
      "cell_type": "code",
      "execution_count": null,
      "id": "bMrOwnX8fsoW",
      "metadata": {
        "id": "bMrOwnX8fsoW"
      },
      "outputs": [],
      "source": [
        "data_collator = DataCollatorForSeq2Seq(tokenizer=tokenizer, model=model)"
      ]
    },
    {
      "cell_type": "markdown",
      "id": "EgBkeKdYTr7r",
      "metadata": {
        "id": "EgBkeKdYTr7r"
      },
      "source": [
        "Defining Metrics and Training Arguments"
      ]
    },
    {
      "cell_type": "code",
      "execution_count": null,
      "id": "iuSycdkvQ6aG",
      "metadata": {
        "id": "iuSycdkvQ6aG"
      },
      "outputs": [],
      "source": [
        "training_args = Seq2SeqTrainingArguments(\n",
        "    output_dir=\"/drive/MyDrive/Summarizer/pegasus_summarizer_model\",\n",
        "    eval_strategy=\"epoch\",\n",
        "    learning_rate=5e-5,\n",
        "    per_device_train_batch_size=2,\n",
        "    per_device_eval_batch_size=1,\n",
        "    gradient_accumulation_steps=4,\n",
        "    save_total_limit=1,\n",
        "    predict_with_generate=True,\n",
        "    logging_strategy=\"epoch\",\n",
        "    save_strategy=\"epoch\",\n",
        "    num_train_epochs=5,\n",
        "    weight_decay=0.01,\n",
        "    logging_dir = \"/drive/MyDrive/Summarizer/pegasus_summarizer_logs\",\n",
        "    load_best_model_at_end=True,\n",
        "    report_to=\"none\",\n",
        "    fp16=True,\n",
        "    remove_unused_columns=False,\n",
        "    )"
      ]
    },
    {
      "cell_type": "code",
      "execution_count": null,
      "id": "iPnvpq1I_IMU",
      "metadata": {
        "colab": {
          "base_uri": "https://localhost:8080/",
          "height": 104,
          "referenced_widgets": [
            "eec6af9efaf048a9b92397944f7e3c58",
            "6080f80851684ab6ab66a59432a5a344",
            "b99c35b53f3c4a46ac1034991e96f0b7",
            "8d4693d8641a4ae0b8df2902e535191a",
            "5da935d0678e4dcdb7c8416650a3393f",
            "864a0a55a41f4bd18be18f7e869e59e4",
            "249bedafe06a46758de2a82ac32eb5dc",
            "98b91320b6344fcabd012924467b07d6",
            "23b57f271c7f4dfe97da15581b0598a7",
            "8a1b3e70731e42a6a275e21d482985ea",
            "ad7d8aadd2e44d0695c65838d8739848"
          ]
        },
        "id": "iPnvpq1I_IMU",
        "outputId": "a3de37ef-4f78-4fcc-c46e-7ef67c9aa0f6"
      },
      "outputs": [
        {
          "name": "stderr",
          "output_type": "stream",
          "text": [
            "<ipython-input-16-32f9ce845afc>:4: FutureWarning: load_metric is deprecated and will be removed in the next major version of datasets. Use 'evaluate.load' instead, from the new library 🤗 Evaluate: https://huggingface.co/docs/evaluate\n",
            "  metric = load_metric(\"rouge\")\n"
          ]
        },
        {
          "data": {
            "application/vnd.jupyter.widget-view+json": {
              "model_id": "eec6af9efaf048a9b92397944f7e3c58",
              "version_major": 2,
              "version_minor": 0
            },
            "text/plain": [
              "Downloading builder script:   0%|          | 0.00/2.17k [00:00<?, ?B/s]"
            ]
          },
          "metadata": {},
          "output_type": "display_data"
        }
      ],
      "source": [
        "#compute metrics\n",
        "from datasets import load_metric\n",
        "\n",
        "metric = load_metric(\"rouge\")\n",
        "\n",
        "def compute_metrics(eval_pred):\n",
        "  preds, labels = eval_pred\n",
        "  decoded_preds = tokenizer.batch_decode(preds, skip_special_tokens=True)\n",
        "  labels = np.where(labels != -100, labels, tokenizer.pad_token_id)\n",
        "  decoded_labels = tokenizer.batch_decode(labels, skip_special_tokens=True)\n",
        "\n",
        "  decoded_preds = [\"\\n\".join(pred.strip().split(\". \")) for pred in decoded_preds]\n",
        "  decoded_labels = [\"\\n\".join(label.strip().split(\". \")) for label in decoded_labels]\n",
        "\n",
        "  result = metric.compute(predictions=decoded_preds, references=decoded_labels, use_stemmer=True)\n",
        "  result = {key: value.mid.fmeasure * 100 for key, value in result.items()}\n",
        "  return {k: round(v, 4) for k, v in result.items()}"
      ]
    },
    {
      "cell_type": "markdown",
      "id": "7UCqy3ibXUar",
      "metadata": {
        "id": "7UCqy3ibXUar"
      },
      "source": [
        "Create trainer"
      ]
    },
    {
      "cell_type": "code",
      "execution_count": null,
      "id": "uOhXxWU_XKjq",
      "metadata": {
        "colab": {
          "base_uri": "https://localhost:8080/"
        },
        "id": "uOhXxWU_XKjq",
        "outputId": "42ebd8ee-0da6-4fdc-815b-b456c6a33dab"
      },
      "outputs": [
        {
          "name": "stderr",
          "output_type": "stream",
          "text": [
            "<ipython-input-26-0cfe09a9a93d>:1: FutureWarning: `tokenizer` is deprecated and will be removed in version 5.0.0 for `Seq2SeqTrainer.__init__`. Use `processing_class` instead.\n",
            "  trainer = Seq2SeqTrainer(\n"
          ]
        }
      ],
      "source": [
        "trainer = Seq2SeqTrainer(\n",
        "    model=model,\n",
        "    args=training_args,\n",
        "    train_dataset=tokenized_dataset[\"train\"],\n",
        "    eval_dataset=tokenized_dataset[\"test\"],\n",
        "    tokenizer=tokenizer,\n",
        "    compute_metrics=compute_metrics,\n",
        ")"
      ]
    },
    {
      "cell_type": "code",
      "execution_count": null,
      "id": "gR9uxl-cXhK-",
      "metadata": {
        "id": "gR9uxl-cXhK-"
      },
      "outputs": [],
      "source": [
        "# trainer.train()"
      ]
    },
    {
      "cell_type": "code",
      "execution_count": null,
      "id": "DymUvxPdTYEm",
      "metadata": {
        "id": "DymUvxPdTYEm"
      },
      "outputs": [],
      "source": [
        "trainer.save_model(\"/content/drive/MyDrive/Summarizer/pegasus_summarizer_model\")"
      ]
    },
    {
      "cell_type": "code",
      "execution_count": null,
      "id": "7yaRejReNRrQ",
      "metadata": {
        "id": "7yaRejReNRrQ"
      },
      "outputs": [],
      "source": [
        "tokenizer.save_pretrained(\"/content/drive/MyDrive/models/pegasus_summarizer_model\")"
      ]
    },
    {
      "cell_type": "code",
      "execution_count": null,
      "id": "2w4FW-S1bRJB",
      "metadata": {
        "id": "2w4FW-S1bRJB"
      },
      "outputs": [],
      "source": [
        "# metric_rouge = trainer.evaluate(eval_dataset = tokenized_dataset[\"test\"])\n",
        "# print(metric_rouge)"
      ]
    },
    {
      "cell_type": "markdown",
      "id": "3LrIAsczuT3n",
      "metadata": {
        "id": "3LrIAsczuT3n"
      },
      "source": [
        "Test"
      ]
    },
    {
      "cell_type": "code",
      "execution_count": 6,
      "id": "Ku-ojD34U5jG",
      "metadata": {
        "id": "Ku-ojD34U5jG"
      },
      "outputs": [],
      "source": [
        "model = PegasusForConditionalGeneration.from_pretrained(\"/content/drive/MyDrive/models/pegasus_summarizer\")\n",
        "tokenizer = PegasusTokenizer.from_pretrained(\"/content/drive/MyDrive/models/pegasus_summarizer\")"
      ]
    },
    {
      "cell_type": "code",
      "execution_count": null,
      "id": "pmH0zQ1xWzPq",
      "metadata": {
        "id": "pmH0zQ1xWzPq"
      },
      "outputs": [],
      "source": [
        "# model.eval()"
      ]
    },
    {
      "cell_type": "markdown",
      "id": "88a7633a",
      "metadata": {},
      "source": [
        "Computing rouge scores"
      ]
    },
    {
      "cell_type": "code",
      "execution_count": 30,
      "id": "zNFllcPdWxzw",
      "metadata": {
        "id": "zNFllcPdWxzw"
      },
      "outputs": [],
      "source": [
        "import torch\n",
        "from tqdm import tqdm\n",
        "def compute_rouge_scores(model, tokenizer, dataset, batch_size=4, max_input_length=512, max_output_length=128):\n",
        "  model.eval()\n",
        "  rouge = load_metric(\"rouge\")\n",
        "\n",
        "  total_preds = []\n",
        "  total_labels = []\n",
        "\n",
        "  for i in tqdm(range(0, len(dataset), batch_size)):\n",
        "    batch = dataset.select(range(i, min(i + batch_size, len(dataset))))\n",
        "    inputs = tokenizer(batch[\"document\"], truncation=True, padding=True, max_length=max_input_length, return_tensors=\"pt\")\n",
        "    input_ids = inputs[\"input_ids\"]\n",
        "    attention_masks = inputs[\"attention_mask\"]\n",
        "\n",
        "    with torch.no_grad():\n",
        "      outputs = model.generate(\n",
        "          input_ids=input_ids,\n",
        "          attention_mask=attention_masks,\n",
        "          max_length=max_output_length,\n",
        "          num_beams=4,\n",
        "      )\n",
        "\n",
        "    decoded_preds = tokenizer.batch_decode(outputs, skip_special_tokens=True)\n",
        "    decoded_labels = batch[\"summary\"]\n",
        "\n",
        "    total_preds.extend(decoded_preds)\n",
        "    total_labels.extend(decoded_labels)\n",
        "\n",
        "    rouge_scores = rouge.compute(predictions=total_preds, references=total_labels, use_stemmer=True)\n",
        "    rouge_scores = {k: round(v.mid.fmeasure * 100, 2) for k, v in rouge_scores.items()}\n",
        "    return rouge_scores"
      ]
    },
    {
      "cell_type": "code",
      "execution_count": 26,
      "id": "2Nv4hsghqc4D",
      "metadata": {
        "colab": {
          "base_uri": "https://localhost:8080/",
          "height": 81,
          "referenced_widgets": [
            "fd7f30e96fab4909836f92aafd66135b",
            "0120afaa381942d98af36e0d3f82937b",
            "0136f9a186dd463b90b71b88bf0d328f",
            "7887051567ce4d0ead54bfe540f0345f",
            "7faab00611914cfea7b56bedd3d2eec8",
            "6b5574e8d3444ad98fe6219011ebb3a6",
            "1aa53212985d4744a7d4fa1dca72b475",
            "f578c80e0d57413bad1d3e334dc0a4d8",
            "13f65d8af49e4d1a9f7d49940f9b71f0",
            "c7d0c94a8e164cc289d85b615986dba0",
            "aba029b9386b41c2827d0a46be60ceb9",
            "71358ad1420448d4bd4d06b8093f2c81",
            "0aea5f9bf65840a4b0b23c11502d0355",
            "8a8214ced6fe40d899598a639d75f660",
            "5be8c0edf30d4c57a9f7cbeca6f3f9df",
            "8c223057f8ae4abf8718d5e520d72891",
            "36d374dd28854c309f37b92f15c2eabc",
            "8611250ff4ca498583d8ef8dd3acbce4",
            "fcd44f1c643949ffbde45bea82f95ff0",
            "afd88069a9584b629c82c9c940213223",
            "3ffeed80149b4435b9aac293b0b9f303",
            "17e5d758d5de4c28ab87e00e4888b7dc"
          ]
        },
        "id": "2Nv4hsghqc4D",
        "outputId": "c1bad9ce-dccf-45c4-943e-2fe84721cfb3"
      },
      "outputs": [
        {
          "data": {
            "application/vnd.jupyter.widget-view+json": {
              "model_id": "fd7f30e96fab4909836f92aafd66135b",
              "version_major": 2,
              "version_minor": 0
            },
            "text/plain": [
              "Map:   0%|          | 0/960 [00:00<?, ? examples/s]"
            ]
          },
          "metadata": {},
          "output_type": "display_data"
        },
        {
          "data": {
            "application/vnd.jupyter.widget-view+json": {
              "model_id": "71358ad1420448d4bd4d06b8093f2c81",
              "version_major": 2,
              "version_minor": 0
            },
            "text/plain": [
              "Map:   0%|          | 0/240 [00:00<?, ? examples/s]"
            ]
          },
          "metadata": {},
          "output_type": "display_data"
        }
      ],
      "source": [
        "tokenized_test = split_dataset.map(process_inputs, batched=True)"
      ]
    },
    {
      "cell_type": "code",
      "execution_count": 32,
      "id": "HAxs01Jd96T6",
      "metadata": {
        "colab": {
          "base_uri": "https://localhost:8080/"
        },
        "id": "HAxs01Jd96T6",
        "outputId": "a2917a18-4597-4972-9c27-e54797bd61d3"
      },
      "outputs": [
        {
          "name": "stderr",
          "output_type": "stream",
          "text": [
            "  0%|          | 0/5 [03:33<?, ?it/s]"
          ]
        },
        {
          "name": "stdout",
          "output_type": "stream",
          "text": [
            "{'rouge1': np.float64(14.52), 'rouge2': np.float64(2.09), 'rougeL': np.float64(10.26), 'rougeLsum': np.float64(10.26)}\n"
          ]
        },
        {
          "name": "stderr",
          "output_type": "stream",
          "text": [
            "\n"
          ]
        }
      ],
      "source": [
        "val_dataset = tokenized_test[\"test\"].select(range(20))\n",
        "rouge_result = compute_rouge_scores(model, tokenizer, val_dataset)\n",
        "print(rouge_result)"
      ]
    },
    {
      "cell_type": "markdown",
      "id": "R92e8NaLApyF",
      "metadata": {
        "id": "R92e8NaLApyF"
      },
      "source": [
        "Plot rouge scores"
      ]
    },
    {
      "cell_type": "code",
      "execution_count": 33,
      "id": "ycULGr1o-GyZ",
      "metadata": {
        "id": "ycULGr1o-GyZ"
      },
      "outputs": [],
      "source": [
        "def plot_rouge_scores(rouge_scores):\n",
        "  keys = list(rouge_result.keys())\n",
        "  values = list(rouge_result.values())\n",
        "\n",
        "  plt.figure(figsize=(10,8))\n",
        "  bars = plt.bar(keys, values, color=\"blue\")\n",
        "  plt.title(\"Rouge F1 Scores\")\n",
        "  plt.xlabel(\"Metrics\")\n",
        "  plt.ylabel(\"Score (%)\")\n",
        "  plt.ylim(0,100)\n",
        "\n",
        "  for bar in bars:\n",
        "    height = bar.get_height()\n",
        "    plt.text(bar.get_x() + bar.get_width()/2, height +1, f\"{height:.2f}\", ha=\"center\", va=\"bottom\")\n",
        "\n",
        "  plt.tight_layout()\n",
        "  plt.show()"
      ]
    },
    {
      "cell_type": "code",
      "execution_count": 34,
      "id": "dTaCefeOE271",
      "metadata": {
        "colab": {
          "base_uri": "https://localhost:8080/",
          "height": 807
        },
        "id": "dTaCefeOE271",
        "outputId": "5a0defdf-6614-435b-c792-1f07019dc896"
      },
      "outputs": [
        {
          "data": {
            "image/png": "[encoded data removed]",
            "text/plain": [
              "<Figure size 1000x800 with 1 Axes>"
            ]
          },
          "metadata": {},
          "output_type": "display_data"
        }
      ],
      "source": [
        "plot_rouge_scores(rouge_result)"
      ]
    },
    {
      "cell_type": "markdown",
      "id": "305cc0aa",
      "metadata": {},
      "source": [
        "Generating a test summary"
      ]
    },
    {
      "cell_type": "code",
      "execution_count": 39,
      "id": "jnErTfPObfX9",
      "metadata": {
        "colab": {
          "base_uri": "https://localhost:8080/"
        },
        "id": "jnErTfPObfX9",
        "outputId": "3b3c40f8-d958-4fda-d624-9f3dcbf5138c"
      },
      "outputs": [
        {
          "name": "stdout",
          "output_type": "stream",
          "text": [
            "results of operations the following table sets forth our results of operations for the periods indicated ( in thousands ) : replace_table_token_5_th the following table sets forth our results of operations for the periods indicated ( in thousands ) : replace_table_token_6_th the following table sets forth our results of operations for the periods indicated ( in thousands ) : replace_table_token_7_th the following table sets forth our results of operations for the periods indicated ( in thousands ) : replace_table_token_8_th the following table sets forth our results of operations for the periods indicated ( in thousands ) : replace_table_token_9_th the following table sets forth our results of operations for the periods indicated ( in thousands ) : replace_table_token_10_th the following table sets forth our results of operations for the periods indicated ( in thousands ) : replace_table_token_11_th the following table sets forth our results of operations for the periods indicated ( in thousands ) : replace_table_token_12_th the following table sets forth our results of operations for the periods indicated ( in thousands ) : replace_table_token_13_th the following table sets forth our results of operations for the periods indicated ( in thousands )\n"
          ]
        }
      ],
      "source": [
        "model.eval()\n",
        "\n",
        "text = \"\"\"million from the issuance of 4,419,641 shares of its common stock to third parties to allow gaea to continue to advance its\n",
        "investment strategy .\n",
        "we retained a 23.2 % ownership interest in gaea following\n",
        "the transaction . at december 31 , 2020 we own approximately\n",
        "23.0 % of gaea and is no longer consolidated in our financial\n",
        "statements . we elected to be taxed as a reit for u.s. federal\n",
        "income tax purposes beginning with our taxable year ended december 31 , 2014.\n",
        "our qualification as a reit depends upon our ability to meet , on a continuing basis ,\n",
        "various complex requirements under the code relating to , among other things , the sources of our gross income ,\n",
        "the composition and values of our assets ,\n",
        "our distribution levels and the diversity of ownership of our capital stock .\n",
        "we believe that we are organized in conformity with the requirements for qualification as a reit under the code ,\n",
        "and that our current intended manner of operation enables us to meet the requirements for taxation as a reit for u.s. federal income tax purposes . our portfolio\n",
        "the following table outlines the carrying value of our portfolio of mortgage loan assets and single-family and smaller commercial properties as of december 31 , 2020\n",
        "and december 31 , 2019 ( $ in millions ) : replace_table_token_4_th we closely monitor the status of our mortgage loans and,\n",
        "through our servicer , work with our borrowers to improve their payment records. market trends and outlook covid-19 the covid-19 pandemic that began during the first quarter\n",
        "of 2020 created a global public-health crisis that resulted in widespread volatility and\n",
        "deteriorations in household , business\n",
        ",and economic market conditions , including in the united states ,\n",
        "where we conduct all of our business . during 2020 many governmental and nongovernmental\n",
        "authorities directed their actions toward curtailing household and business activity in order to contain\n",
        "or mitigate the impact of the covid-19 pandemic and deployed fiscal- and monetary-policy measures in order\n",
        "to seek to partially mitigate the adverse effects . these programs have had varying degrees of success and the extent of the long term impact on the mortgage market remains unknown . the covid-19 pandemic began to meaningfully impact our\n",
        "operations in late march 2020 and this disruption was\n",
        "reflected in our results of operations for the quarter\n",
        "ended march 31 , 2020. since then many of these negative impacts have improved throughout 2020 , as follows\n",
        ": we recorded net recovery of credit loss provisions of $ 10.8 million on our mortgage loan portfolio and investments in\n",
        "beneficial interests during the year ended december 31 , 2020. we recorded total expense of $ 5.1 million for provision for anticipated credit\n",
        "losses on our mortgage loan portfolio and investments in beneficial interests during the three months ended march 31 , 2020 , as a result of expectations of extended portfolio durations and longer foreclosure and eviction\n",
        "timelines . however , during the remainder of 2020 we recovered $ 15.9 million in credit loss provisions on 47 these portfolios which was\n",
        "as a result of better than expected loan performance and the related positive impact\n",
        "on future repayments . we recorded a net $ 0.9 million of unrealized losses on our investments in debt securities\n",
        "to other comprehensive income during the year ended december 31 , 2020. we recorded $ 28.4 million in unrealized losses on our\n",
        "investments in debt securities to other comprehensive income for the three months ended march 31 , 2020. however , during\n",
        "the remainder of 2020 we recovered $ 27.5 million of those unrealized losses . during the course of the year , we\n",
        "settled net margin calls in the amount of $ 0.5 million with our repurchase financing counterparties during the year ended december 31 , 2020. for the three months ended march 31 ,\n",
        "2020 we settled $ 28.2 million of net margins calls with our repurchase financing counterparties\n",
        "due to the extreme disruption in the residential mortgage securities market from the covid-19 pandemic , and since then have recovered $ 27.7 million of cash deposits on a net basis from our repurchase financing counterparties as collateral prices rebounded off the march 31 , 2020 levels .\n",
        "the pandemic has continued and continues to significantly and adversely impact certain areas of the united states . as a result , our forecast of macroeconomic conditions and expected lifetime credit losses on our mortgage loan and beneficial interest portfolios is subject to meaningful uncertainty . while substantially all of our borrowers continue to make scheduled payments and we continue to receive payments in full , we have acted swiftly to support our borrowers with a mortgage forbearance program . while we generally do not hold loans guaranteed by gses or the us government , we , through our servicer , are nonetheless offering a forbearance program under terms similar to those required for gse loans . borrowers that are able to provide documentation of a negative impact of covid-19 are entitled to three months of forbearance . the three monthly payments may then be repaid over 12 months . if a borrower can not repay the deferred amount , our servicer will work with them on repayment options . notwithstanding the foregoing , to the extent special rules apply to a mortgagor because of the jurisdiction or type of the mortgage loan , the servicer will comply with those rules . our servicer has extensive experience dealing with delinquent borrowers and we believe it is well positioned to react on our behalf to any increase in mortgage delinquencies . story_separator_special_tag conversely , decreases in interest rates , in general , may over time cause : ( a ) prepayments on our mortgage loan and mbs portfolio to increase , thereby accelerating the accretion of our purchase discounts ; ( b ) the value of our mortgage loan and mbs portfolio to increase ; ( c ) coupons on our arm and hybrid arm mortgage loans and mbs to reset , although on a delayed basis , to lower interest rates ; ( d ) the interest expense associated with our borrowings to decrease ; and ( e ) to the extent we enter into interest rate swap agreements as part of our hedging strategy , the value of these agreements to decrease . we currently expect the pace of loan prepayments to slow due to the covid-19 outbreak . market conditions . due to the dramatic repricing of real estate assets that occurred during the 2008 financial crisis and the continuing uncertainty regarding the direction and strength of the real estate markets including as a result of the pandemic , we believe a void in the debt and equity capital available for investing in real estate exists as many financial institutions , insurance companies , finance companies and fund managers have determined to reduce or discontinue investment in debt or equity related to real estate . we believe the dislocations in the residential real estate market have resulted or will result in an “ over-correction ” in the repricing of real estate assets , creating a potential opportunity for us to capitalize on these market dislocations and capital void to the extent we are able to obtain financing for additional purchases . we believe that in spite of the continuing uncertain market environment for mortgage-related assets , including as a result of the pandemic outbreak , current market conditions offer potentially attractive investment opportunities for us , even in the face of a riskier and more volatile market environment . we expect that market conditions will continue to impact our operating results and will cause us to adjust our investment and financing strategies over time as new opportunities emerge and risk profiles of our business change . covid-19 pandemic . the pandemic has also impacted , and is likely to continue to impact , directly or indirectly , many of the other factors discussed above , as well as other aspects of our business . new developments continue to emerge and it is not possible for us to predict with certainty which factors will impact our business . in addition , we can not assess the impact of each factor on our business or the extent to which any factor , or combination of factors , may cause actual results to differ materially from those contained in any forward-looking statements . in particular , it is difficult to fully assess the impact of the pandemic at this time due to , among other things , uncertainty regarding the severity and duration of the outbreak domestically and internationally and the effectiveness of federal , state and local government efforts to contain the spread of covid-19 , the effects of those efforts on our business , the indirect impact on the u.s. economy and economic activity and the impact on the mortgage markets and capital markets . critical accounting policies and estimates certain of our critical accounting policies require management to make estimates and assumptions\n",
        "that affect the reported amounts of assets and liabilities at the date of the consolidated financial statements and the reported amounts of revenues and expenses during the reporting period . actual results could differ from those estimates . we consider significant estimates to include expected cash flows from mortgage loans and fair value measurements . we believe that all of the decisions 51 and assessments upon which our consolidated financial statements are and will be based were or will be reasonable at the time made based upon information available to us at that time . we have identified our most critical accounting policies to be the accounting policies associated with our mortgage-related assets and our borrowings . mortgage loans purchased credit deteriorated loans ( `` pcd loans `` ) — as of their acquisition date , the loans we acquired have generally suffered some credit deterioration subsequent to origination . as a result , prior to the adoption of asu 2016-13 , financial instruments - credit losses , otherwise known as cecl , on january 1 , 2020 , we were required to account for the mortgage loans pursuant to asc 310-30 , accounting for loans with deterioration in credit quality . under both standards , our recognition of interest income for pcd loans is based upon our having a reasonable expectation of the amount and timing of the cash flows expected to be collected . when the timing and amount of cash flows expected to be collected are reasonably estimable , we use expected cash flows to apply the effective interest method of income recognition . under both cecl and asc 310-30 , acquired loans may be aggregated and accounted for as a pool of loans if the loans have common risk characteristics . a pool is accounted for as a single asset with a single composite interest rate and an aggregate expectation of cash flows . however , cecl allows more flexibility to us to adjust its loan pools as the underlying risk factors change over time . under asc 310-30 , rpls were determined by us to have common risk characteristics and were accounted for as a single loan pool for loans acquired within each three-month calendar quarter . similarly , npls were determined to have common risk characteristics and were accounted for as a single non-performing pool for loans acquired within each three-month calendar quarter . the result was generally two additional pools ( rpls and npls ) each quarter . under cecl , we have re-aggregated our loan pools around similar risk\n",
        "\"\"\"\n",
        "\n",
        "with torch.no_grad():\n",
        "    input = tokenizer(text, return_tensors=\"pt\", padding=True, truncation=True, max_length=512)\n",
        "    summary_id = model.generate(**input, max_new_tokens=512)\n",
        "\n",
        "print(tokenizer.decode(summary_id[0], skip_special_tokens=True))"
      ]
    },
    {
      "cell_type": "code",
      "execution_count": null,
      "id": "26exbEPyv95C",
      "metadata": {
        "id": "26exbEPyv95C"
      },
      "outputs": [],
      "source": []
    }
  ],
  "metadata": {
    "accelerator": "GPU",
    "colab": {
      "gpuType": "T4",
      "provenance": []
    },
    "kernelspec": {
      "display_name": "Python 3",
      "name": "python3"
    },
    "language_info": {
      "codemirror_mode": {
        "name": "ipython",
        "version": 3
      },
      "file_extension": ".py",
      "mimetype": "text/x-python",
      "name": "python",
      "nbconvert_exporter": "python",
      "pygments_lexer": "ipython3",
      "version": "3.12.3"
    },
    "widgets": {
      "application/vnd.jupyter.widget-state+json": {
        "0120afaa381942d98af36e0d3f82937b": {
          "model_module": "@jupyter-widgets/controls",
          "model_module_version": "1.5.0",
          "model_name": "HTMLModel",
          "state": {
            "_dom_classes": [],
            "_model_module": "@jupyter-widgets/controls",
            "_model_module_version": "1.5.0",
            "_model_name": "HTMLModel",
            "_view_count": null,
            "_view_module": "@jupyter-widgets/controls",
            "_view_module_version": "1.5.0",
            "_view_name": "HTMLView",
            "description": "",
            "description_tooltip": null,
            "layout": "IPY_MODEL_6b5574e8d3444ad98fe6219011ebb3a6",
            "placeholder": "​",
            "style": "IPY_MODEL_1aa53212985d4744a7d4fa1dca72b475",
            "value": "Map: 100%"
          }
        },
        "0136f9a186dd463b90b71b88bf0d328f": {
          "model_module": "@jupyter-widgets/controls",
          "model_module_version": "1.5.0",
          "model_name": "FloatProgressModel",
          "state": {
            "_dom_classes": [],
            "_model_module": "@jupyter-widgets/controls",
            "_model_module_version": "1.5.0",
            "_model_name": "FloatProgressModel",
            "_view_count": null,
            "_view_module": "@jupyter-widgets/controls",
            "_view_module_version": "1.5.0",
            "_view_name": "ProgressView",
            "bar_style": "success",
            "description": "",
            "description_tooltip": null,
            "layout": "IPY_MODEL_f578c80e0d57413bad1d3e334dc0a4d8",
            "max": 960,
            "min": 0,
            "orientation": "horizontal",
            "style": "IPY_MODEL_13f65d8af49e4d1a9f7d49940f9b71f0",
            "value": 960
          }
        },
        "021c688b18ca459a874d1ef39f49a434": {
          "model_module": "@jupyter-widgets/base",
          "model_module_version": "1.2.0",
          "model_name": "LayoutModel",
          "state": {
            "_model_module": "@jupyter-widgets/base",
            "_model_module_version": "1.2.0",
            "_model_name": "LayoutModel",
            "_view_count": null,
            "_view_module": "@jupyter-widgets/base",
            "_view_module_version": "1.2.0",
            "_view_name": "LayoutView",
            "align_content": null,
            "align_items": null,
            "align_self": null,
            "border": null,
            "bottom": null,
            "display": null,
            "flex": null,
            "flex_flow": null,
            "grid_area": null,
            "grid_auto_columns": null,
            "grid_auto_flow": null,
            "grid_auto_rows": null,
            "grid_column": null,
            "grid_gap": null,
            "grid_row": null,
            "grid_template_areas": null,
            "grid_template_columns": null,
            "grid_template_rows": null,
            "height": null,
            "justify_content": null,
            "justify_items": null,
            "left": null,
            "margin": null,
            "max_height": null,
            "max_width": null,
            "min_height": null,
            "min_width": null,
            "object_fit": null,
            "object_position": null,
            "order": null,
            "overflow": null,
            "overflow_x": null,
            "overflow_y": null,
            "padding": null,
            "right": null,
            "top": null,
            "visibility": null,
            "width": null
          }
        },
        "03ba55eb4e4d4ea3bdf3f5e5e1c5c619": {
          "model_module": "@jupyter-widgets/base",
          "model_module_version": "1.2.0",
          "model_name": "LayoutModel",
          "state": {
            "_model_module": "@jupyter-widgets/base",
            "_model_module_version": "1.2.0",
            "_model_name": "LayoutModel",
            "_view_count": null,
            "_view_module": "@jupyter-widgets/base",
            "_view_module_version": "1.2.0",
            "_view_name": "LayoutView",
            "align_content": null,
            "align_items": null,
            "align_self": null,
            "border": null,
            "bottom": null,
            "display": null,
            "flex": null,
            "flex_flow": null,
            "grid_area": null,
            "grid_auto_columns": null,
            "grid_auto_flow": null,
            "grid_auto_rows": null,
            "grid_column": null,
            "grid_gap": null,
            "grid_row": null,
            "grid_template_areas": null,
            "grid_template_columns": null,
            "grid_template_rows": null,
            "height": null,
            "justify_content": null,
            "justify_items": null,
            "left": null,
            "margin": null,
            "max_height": null,
            "max_width": null,
            "min_height": null,
            "min_width": null,
            "object_fit": null,
            "object_position": null,
            "order": null,
            "overflow": null,
            "overflow_x": null,
            "overflow_y": null,
            "padding": null,
            "right": null,
            "top": null,
            "visibility": null,
            "width": null
          }
        },
        "0aea5f9bf65840a4b0b23c11502d0355": {
          "model_module": "@jupyter-widgets/controls",
          "model_module_version": "1.5.0",
          "model_name": "HTMLModel",
          "state": {
            "_dom_classes": [],
            "_model_module": "@jupyter-widgets/controls",
            "_model_module_version": "1.5.0",
            "_model_name": "HTMLModel",
            "_view_count": null,
            "_view_module": "@jupyter-widgets/controls",
            "_view_module_version": "1.5.0",
            "_view_name": "HTMLView",
            "description": "",
            "description_tooltip": null,
            "layout": "IPY_MODEL_36d374dd28854c309f37b92f15c2eabc",
            "placeholder": "​",
            "style": "IPY_MODEL_8611250ff4ca498583d8ef8dd3acbce4",
            "value": "Map: 100%"
          }
        },
        "0b736cdd1de44c82b4cbdf3035ebe77c": {
          "model_module": "@jupyter-widgets/controls",
          "model_module_version": "1.5.0",
          "model_name": "FloatProgressModel",
          "state": {
            "_dom_classes": [],
            "_model_module": "@jupyter-widgets/controls",
            "_model_module_version": "1.5.0",
            "_model_name": "FloatProgressModel",
            "_view_count": null,
            "_view_module": "@jupyter-widgets/controls",
            "_view_module_version": "1.5.0",
            "_view_name": "ProgressView",
            "bar_style": "success",
            "description": "",
            "description_tooltip": null,
            "layout": "IPY_MODEL_b27a48122f36410dab4ce128a60dc0b2",
            "max": 240,
            "min": 0,
            "orientation": "horizontal",
            "style": "IPY_MODEL_12a14371b1d941a0ba70e76e6f052f27",
            "value": 240
          }
        },
        "0f26eebd6b4447e6872fdb88ca12d005": {
          "model_module": "@jupyter-widgets/base",
          "model_module_version": "1.2.0",
          "model_name": "LayoutModel",
          "state": {
            "_model_module": "@jupyter-widgets/base",
            "_model_module_version": "1.2.0",
            "_model_name": "LayoutModel",
            "_view_count": null,
            "_view_module": "@jupyter-widgets/base",
            "_view_module_version": "1.2.0",
            "_view_name": "LayoutView",
            "align_content": null,
            "align_items": null,
            "align_self": null,
            "border": null,
            "bottom": null,
            "display": null,
            "flex": null,
            "flex_flow": null,
            "grid_area": null,
            "grid_auto_columns": null,
            "grid_auto_flow": null,
            "grid_auto_rows": null,
            "grid_column": null,
            "grid_gap": null,
            "grid_row": null,
            "grid_template_areas": null,
            "grid_template_columns": null,
            "grid_template_rows": null,
            "height": null,
            "justify_content": null,
            "justify_items": null,
            "left": null,
            "margin": null,
            "max_height": null,
            "max_width": null,
            "min_height": null,
            "min_width": null,
            "object_fit": null,
            "object_position": null,
            "order": null,
            "overflow": null,
            "overflow_x": null,
            "overflow_y": null,
            "padding": null,
            "right": null,
            "top": null,
            "visibility": null,
            "width": null
          }
        },
        "10c5683f3e6c4914899c3045ff3b7715": {
          "model_module": "@jupyter-widgets/controls",
          "model_module_version": "1.5.0",
          "model_name": "DescriptionStyleModel",
          "state": {
            "_model_module": "@jupyter-widgets/controls",
            "_model_module_version": "1.5.0",
            "_model_name": "DescriptionStyleModel",
            "_view_count": null,
            "_view_module": "@jupyter-widgets/base",
            "_view_module_version": "1.2.0",
            "_view_name": "StyleView",
            "description_width": ""
          }
        },
        "12a14371b1d941a0ba70e76e6f052f27": {
          "model_module": "@jupyter-widgets/controls",
          "model_module_version": "1.5.0",
          "model_name": "ProgressStyleModel",
          "state": {
            "_model_module": "@jupyter-widgets/controls",
            "_model_module_version": "1.5.0",
            "_model_name": "ProgressStyleModel",
            "_view_count": null,
            "_view_module": "@jupyter-widgets/base",
            "_view_module_version": "1.2.0",
            "_view_name": "StyleView",
            "bar_color": null,
            "description_width": ""
          }
        },
        "13f65d8af49e4d1a9f7d49940f9b71f0": {
          "model_module": "@jupyter-widgets/controls",
          "model_module_version": "1.5.0",
          "model_name": "ProgressStyleModel",
          "state": {
            "_model_module": "@jupyter-widgets/controls",
            "_model_module_version": "1.5.0",
            "_model_name": "ProgressStyleModel",
            "_view_count": null,
            "_view_module": "@jupyter-widgets/base",
            "_view_module_version": "1.2.0",
            "_view_name": "StyleView",
            "bar_color": null,
            "description_width": ""
          }
        },
        "16d3c3d9af3843be9d259af0dc4fc5ec": {
          "model_module": "@jupyter-widgets/controls",
          "model_module_version": "1.5.0",
          "model_name": "ProgressStyleModel",
          "state": {
            "_model_module": "@jupyter-widgets/controls",
            "_model_module_version": "1.5.0",
            "_model_name": "ProgressStyleModel",
            "_view_count": null,
            "_view_module": "@jupyter-widgets/base",
            "_view_module_version": "1.2.0",
            "_view_name": "StyleView",
            "bar_color": null,
            "description_width": ""
          }
        },
        "17e5d758d5de4c28ab87e00e4888b7dc": {
          "model_module": "@jupyter-widgets/controls",
          "model_module_version": "1.5.0",
          "model_name": "DescriptionStyleModel",
          "state": {
            "_model_module": "@jupyter-widgets/controls",
            "_model_module_version": "1.5.0",
            "_model_name": "DescriptionStyleModel",
            "_view_count": null,
            "_view_module": "@jupyter-widgets/base",
            "_view_module_version": "1.2.0",
            "_view_name": "StyleView",
            "description_width": ""
          }
        },
        "1aa53212985d4744a7d4fa1dca72b475": {
          "model_module": "@jupyter-widgets/controls",
          "model_module_version": "1.5.0",
          "model_name": "DescriptionStyleModel",
          "state": {
            "_model_module": "@jupyter-widgets/controls",
            "_model_module_version": "1.5.0",
            "_model_name": "DescriptionStyleModel",
            "_view_count": null,
            "_view_module": "@jupyter-widgets/base",
            "_view_module_version": "1.2.0",
            "_view_name": "StyleView",
            "description_width": ""
          }
        },
        "1c822737133f4135b5863c094994ef53": {
          "model_module": "@jupyter-widgets/controls",
          "model_module_version": "1.5.0",
          "model_name": "HTMLModel",
          "state": {
            "_dom_classes": [],
            "_model_module": "@jupyter-widgets/controls",
            "_model_module_version": "1.5.0",
            "_model_name": "HTMLModel",
            "_view_count": null,
            "_view_module": "@jupyter-widgets/controls",
            "_view_module_version": "1.5.0",
            "_view_name": "HTMLView",
            "description": "",
            "description_tooltip": null,
            "layout": "IPY_MODEL_03ba55eb4e4d4ea3bdf3f5e5e1c5c619",
            "placeholder": "​",
            "style": "IPY_MODEL_a35d56a1ecab438fb2b58972a71140cb",
            "value": " 259/259 [00:00&lt;00:00, 11.6kB/s]"
          }
        },
        "1c85459b504b4bd5a196b40716a8864b": {
          "model_module": "@jupyter-widgets/base",
          "model_module_version": "1.2.0",
          "model_name": "LayoutModel",
          "state": {
            "_model_module": "@jupyter-widgets/base",
            "_model_module_version": "1.2.0",
            "_model_name": "LayoutModel",
            "_view_count": null,
            "_view_module": "@jupyter-widgets/base",
            "_view_module_version": "1.2.0",
            "_view_name": "LayoutView",
            "align_content": null,
            "align_items": null,
            "align_self": null,
            "border": null,
            "bottom": null,
            "display": null,
            "flex": null,
            "flex_flow": null,
            "grid_area": null,
            "grid_auto_columns": null,
            "grid_auto_flow": null,
            "grid_auto_rows": null,
            "grid_column": null,
            "grid_gap": null,
            "grid_row": null,
            "grid_template_areas": null,
            "grid_template_columns": null,
            "grid_template_rows": null,
            "height": null,
            "justify_content": null,
            "justify_items": null,
            "left": null,
            "margin": null,
            "max_height": null,
            "max_width": null,
            "min_height": null,
            "min_width": null,
            "object_fit": null,
            "object_position": null,
            "order": null,
            "overflow": null,
            "overflow_x": null,
            "overflow_y": null,
            "padding": null,
            "right": null,
            "top": null,
            "visibility": null,
            "width": null
          }
        },
        "1cb2d0ec1bdf4b2bba836bd84cd07fbe": {
          "model_module": "@jupyter-widgets/base",
          "model_module_version": "1.2.0",
          "model_name": "LayoutModel",
          "state": {
            "_model_module": "@jupyter-widgets/base",
            "_model_module_version": "1.2.0",
            "_model_name": "LayoutModel",
            "_view_count": null,
            "_view_module": "@jupyter-widgets/base",
            "_view_module_version": "1.2.0",
            "_view_name": "LayoutView",
            "align_content": null,
            "align_items": null,
            "align_self": null,
            "border": null,
            "bottom": null,
            "display": null,
            "flex": null,
            "flex_flow": null,
            "grid_area": null,
            "grid_auto_columns": null,
            "grid_auto_flow": null,
            "grid_auto_rows": null,
            "grid_column": null,
            "grid_gap": null,
            "grid_row": null,
            "grid_template_areas": null,
            "grid_template_columns": null,
            "grid_template_rows": null,
            "height": null,
            "justify_content": null,
            "justify_items": null,
            "left": null,
            "margin": null,
            "max_height": null,
            "max_width": null,
            "min_height": null,
            "min_width": null,
            "object_fit": null,
            "object_position": null,
            "order": null,
            "overflow": null,
            "overflow_x": null,
            "overflow_y": null,
            "padding": null,
            "right": null,
            "top": null,
            "visibility": null,
            "width": null
          }
        },
        "1e8d5b4f15044491ba7ef59971fea091": {
          "model_module": "@jupyter-widgets/controls",
          "model_module_version": "1.5.0",
          "model_name": "FloatProgressModel",
          "state": {
            "_dom_classes": [],
            "_model_module": "@jupyter-widgets/controls",
            "_model_module_version": "1.5.0",
            "_model_name": "FloatProgressModel",
            "_view_count": null,
            "_view_module": "@jupyter-widgets/controls",
            "_view_module_version": "1.5.0",
            "_view_name": "ProgressView",
            "bar_style": "success",
            "description": "",
            "description_tooltip": null,
            "layout": "IPY_MODEL_f961f90cdfdb4a85a2d971d2f120a190",
            "max": 2275264548,
            "min": 0,
            "orientation": "horizontal",
            "style": "IPY_MODEL_8814bbda9fdc47f8bc2107fb32f46847",
            "value": 2275264548
          }
        },
        "22a4012778fe4632be484ce9b9990d1e": {
          "model_module": "@jupyter-widgets/controls",
          "model_module_version": "1.5.0",
          "model_name": "HTMLModel",
          "state": {
            "_dom_classes": [],
            "_model_module": "@jupyter-widgets/controls",
            "_model_module_version": "1.5.0",
            "_model_name": "HTMLModel",
            "_view_count": null,
            "_view_module": "@jupyter-widgets/controls",
            "_view_module_version": "1.5.0",
            "_view_name": "HTMLView",
            "description": "",
            "description_tooltip": null,
            "layout": "IPY_MODEL_630e44ae25b34a33ad20d068633cbc4c",
            "placeholder": "​",
            "style": "IPY_MODEL_35828751da0c4cc58c6b49a2e05b208c",
            "value": " 2.28G/2.28G [00:15&lt;00:00, 72.8MB/s]"
          }
        },
        "23b57f271c7f4dfe97da15581b0598a7": {
          "model_module": "@jupyter-widgets/controls",
          "model_module_version": "1.5.0",
          "model_name": "ProgressStyleModel",
          "state": {
            "_model_module": "@jupyter-widgets/controls",
            "_model_module_version": "1.5.0",
            "_model_name": "ProgressStyleModel",
            "_view_count": null,
            "_view_module": "@jupyter-widgets/base",
            "_view_module_version": "1.2.0",
            "_view_name": "StyleView",
            "bar_color": null,
            "description_width": ""
          }
        },
        "249bedafe06a46758de2a82ac32eb5dc": {
          "model_module": "@jupyter-widgets/controls",
          "model_module_version": "1.5.0",
          "model_name": "DescriptionStyleModel",
          "state": {
            "_model_module": "@jupyter-widgets/controls",
            "_model_module_version": "1.5.0",
            "_model_name": "DescriptionStyleModel",
            "_view_count": null,
            "_view_module": "@jupyter-widgets/base",
            "_view_module_version": "1.2.0",
            "_view_name": "StyleView",
            "description_width": ""
          }
        },
        "27e1bdece2ec436b80029129f82d0e8b": {
          "model_module": "@jupyter-widgets/controls",
          "model_module_version": "1.5.0",
          "model_name": "HTMLModel",
          "state": {
            "_dom_classes": [],
            "_model_module": "@jupyter-widgets/controls",
            "_model_module_version": "1.5.0",
            "_model_name": "HTMLModel",
            "_view_count": null,
            "_view_module": "@jupyter-widgets/controls",
            "_view_module_version": "1.5.0",
            "_view_name": "HTMLView",
            "description": "",
            "description_tooltip": null,
            "layout": "IPY_MODEL_848d1e4f20114659b70a899a21556c59",
            "placeholder": "​",
            "style": "IPY_MODEL_459c545c2ec746eeae75e644a4c52736",
            "value": "Map: 100%"
          }
        },
        "27ffc49aec9f4acc991db921db95b3e1": {
          "model_module": "@jupyter-widgets/base",
          "model_module_version": "1.2.0",
          "model_name": "LayoutModel",
          "state": {
            "_model_module": "@jupyter-widgets/base",
            "_model_module_version": "1.2.0",
            "_model_name": "LayoutModel",
            "_view_count": null,
            "_view_module": "@jupyter-widgets/base",
            "_view_module_version": "1.2.0",
            "_view_name": "LayoutView",
            "align_content": null,
            "align_items": null,
            "align_self": null,
            "border": null,
            "bottom": null,
            "display": null,
            "flex": null,
            "flex_flow": null,
            "grid_area": null,
            "grid_auto_columns": null,
            "grid_auto_flow": null,
            "grid_auto_rows": null,
            "grid_column": null,
            "grid_gap": null,
            "grid_row": null,
            "grid_template_areas": null,
            "grid_template_columns": null,
            "grid_template_rows": null,
            "height": null,
            "justify_content": null,
            "justify_items": null,
            "left": null,
            "margin": null,
            "max_height": null,
            "max_width": null,
            "min_height": null,
            "min_width": null,
            "object_fit": null,
            "object_position": null,
            "order": null,
            "overflow": null,
            "overflow_x": null,
            "overflow_y": null,
            "padding": null,
            "right": null,
            "top": null,
            "visibility": null,
            "width": null
          }
        },
        "35828751da0c4cc58c6b49a2e05b208c": {
          "model_module": "@jupyter-widgets/controls",
          "model_module_version": "1.5.0",
          "model_name": "DescriptionStyleModel",
          "state": {
            "_model_module": "@jupyter-widgets/controls",
            "_model_module_version": "1.5.0",
            "_model_name": "DescriptionStyleModel",
            "_view_count": null,
            "_view_module": "@jupyter-widgets/base",
            "_view_module_version": "1.2.0",
            "_view_name": "StyleView",
            "description_width": ""
          }
        },
        "36d374dd28854c309f37b92f15c2eabc": {
          "model_module": "@jupyter-widgets/base",
          "model_module_version": "1.2.0",
          "model_name": "LayoutModel",
          "state": {
            "_model_module": "@jupyter-widgets/base",
            "_model_module_version": "1.2.0",
            "_model_name": "LayoutModel",
            "_view_count": null,
            "_view_module": "@jupyter-widgets/base",
            "_view_module_version": "1.2.0",
            "_view_name": "LayoutView",
            "align_content": null,
            "align_items": null,
            "align_self": null,
            "border": null,
            "bottom": null,
            "display": null,
            "flex": null,
            "flex_flow": null,
            "grid_area": null,
            "grid_auto_columns": null,
            "grid_auto_flow": null,
            "grid_auto_rows": null,
            "grid_column": null,
            "grid_gap": null,
            "grid_row": null,
            "grid_template_areas": null,
            "grid_template_columns": null,
            "grid_template_rows": null,
            "height": null,
            "justify_content": null,
            "justify_items": null,
            "left": null,
            "margin": null,
            "max_height": null,
            "max_width": null,
            "min_height": null,
            "min_width": null,
            "object_fit": null,
            "object_position": null,
            "order": null,
            "overflow": null,
            "overflow_x": null,
            "overflow_y": null,
            "padding": null,
            "right": null,
            "top": null,
            "visibility": null,
            "width": null
          }
        },
        "3ffeed80149b4435b9aac293b0b9f303": {
          "model_module": "@jupyter-widgets/base",
          "model_module_version": "1.2.0",
          "model_name": "LayoutModel",
          "state": {
            "_model_module": "@jupyter-widgets/base",
            "_model_module_version": "1.2.0",
            "_model_name": "LayoutModel",
            "_view_count": null,
            "_view_module": "@jupyter-widgets/base",
            "_view_module_version": "1.2.0",
            "_view_name": "LayoutView",
            "align_content": null,
            "align_items": null,
            "align_self": null,
            "border": null,
            "bottom": null,
            "display": null,
            "flex": null,
            "flex_flow": null,
            "grid_area": null,
            "grid_auto_columns": null,
            "grid_auto_flow": null,
            "grid_auto_rows": null,
            "grid_column": null,
            "grid_gap": null,
            "grid_row": null,
            "grid_template_areas": null,
            "grid_template_columns": null,
            "grid_template_rows": null,
            "height": null,
            "justify_content": null,
            "justify_items": null,
            "left": null,
            "margin": null,
            "max_height": null,
            "max_width": null,
            "min_height": null,
            "min_width": null,
            "object_fit": null,
            "object_position": null,
            "order": null,
            "overflow": null,
            "overflow_x": null,
            "overflow_y": null,
            "padding": null,
            "right": null,
            "top": null,
            "visibility": null,
            "width": null
          }
        },
        "459c545c2ec746eeae75e644a4c52736": {
          "model_module": "@jupyter-widgets/controls",
          "model_module_version": "1.5.0",
          "model_name": "DescriptionStyleModel",
          "state": {
            "_model_module": "@jupyter-widgets/controls",
            "_model_module_version": "1.5.0",
            "_model_name": "DescriptionStyleModel",
            "_view_count": null,
            "_view_module": "@jupyter-widgets/base",
            "_view_module_version": "1.2.0",
            "_view_name": "StyleView",
            "description_width": ""
          }
        },
        "54c00bb5280649169f3fc3ad3d62fe6a": {
          "model_module": "@jupyter-widgets/base",
          "model_module_version": "1.2.0",
          "model_name": "LayoutModel",
          "state": {
            "_model_module": "@jupyter-widgets/base",
            "_model_module_version": "1.2.0",
            "_model_name": "LayoutModel",
            "_view_count": null,
            "_view_module": "@jupyter-widgets/base",
            "_view_module_version": "1.2.0",
            "_view_name": "LayoutView",
            "align_content": null,
            "align_items": null,
            "align_self": null,
            "border": null,
            "bottom": null,
            "display": null,
            "flex": null,
            "flex_flow": null,
            "grid_area": null,
            "grid_auto_columns": null,
            "grid_auto_flow": null,
            "grid_auto_rows": null,
            "grid_column": null,
            "grid_gap": null,
            "grid_row": null,
            "grid_template_areas": null,
            "grid_template_columns": null,
            "grid_template_rows": null,
            "height": null,
            "justify_content": null,
            "justify_items": null,
            "left": null,
            "margin": null,
            "max_height": null,
            "max_width": null,
            "min_height": null,
            "min_width": null,
            "object_fit": null,
            "object_position": null,
            "order": null,
            "overflow": null,
            "overflow_x": null,
            "overflow_y": null,
            "padding": null,
            "right": null,
            "top": null,
            "visibility": null,
            "width": null
          }
        },
        "569654d16bcc43bba141454eb801eccf": {
          "model_module": "@jupyter-widgets/controls",
          "model_module_version": "1.5.0",
          "model_name": "HBoxModel",
          "state": {
            "_dom_classes": [],
            "_model_module": "@jupyter-widgets/controls",
            "_model_module_version": "1.5.0",
            "_model_name": "HBoxModel",
            "_view_count": null,
            "_view_module": "@jupyter-widgets/controls",
            "_view_module_version": "1.5.0",
            "_view_name": "HBoxView",
            "box_style": "",
            "children": [
              "IPY_MODEL_6acad173e0804caa9e9490f216b853ff",
              "IPY_MODEL_f07475fdc8b64c1abf96695b6217c354",
              "IPY_MODEL_22a4012778fe4632be484ce9b9990d1e"
            ],
            "layout": "IPY_MODEL_a75b0d4513b9442f8069db017b72e0c9"
          }
        },
        "5a239b4b694044249cfded716e5698d3": {
          "model_module": "@jupyter-widgets/controls",
          "model_module_version": "1.5.0",
          "model_name": "DescriptionStyleModel",
          "state": {
            "_model_module": "@jupyter-widgets/controls",
            "_model_module_version": "1.5.0",
            "_model_name": "DescriptionStyleModel",
            "_view_count": null,
            "_view_module": "@jupyter-widgets/base",
            "_view_module_version": "1.2.0",
            "_view_name": "StyleView",
            "description_width": ""
          }
        },
        "5be8c0edf30d4c57a9f7cbeca6f3f9df": {
          "model_module": "@jupyter-widgets/controls",
          "model_module_version": "1.5.0",
          "model_name": "HTMLModel",
          "state": {
            "_dom_classes": [],
            "_model_module": "@jupyter-widgets/controls",
            "_model_module_version": "1.5.0",
            "_model_name": "HTMLModel",
            "_view_count": null,
            "_view_module": "@jupyter-widgets/controls",
            "_view_module_version": "1.5.0",
            "_view_name": "HTMLView",
            "description": "",
            "description_tooltip": null,
            "layout": "IPY_MODEL_3ffeed80149b4435b9aac293b0b9f303",
            "placeholder": "​",
            "style": "IPY_MODEL_17e5d758d5de4c28ab87e00e4888b7dc",
            "value": " 240/240 [00:02&lt;00:00, 84.07 examples/s]"
          }
        },
        "5da935d0678e4dcdb7c8416650a3393f": {
          "model_module": "@jupyter-widgets/base",
          "model_module_version": "1.2.0",
          "model_name": "LayoutModel",
          "state": {
            "_model_module": "@jupyter-widgets/base",
            "_model_module_version": "1.2.0",
            "_model_name": "LayoutModel",
            "_view_count": null,
            "_view_module": "@jupyter-widgets/base",
            "_view_module_version": "1.2.0",
            "_view_name": "LayoutView",
            "align_content": null,
            "align_items": null,
            "align_self": null,
            "border": null,
            "bottom": null,
            "display": null,
            "flex": null,
            "flex_flow": null,
            "grid_area": null,
            "grid_auto_columns": null,
            "grid_auto_flow": null,
            "grid_auto_rows": null,
            "grid_column": null,
            "grid_gap": null,
            "grid_row": null,
            "grid_template_areas": null,
            "grid_template_columns": null,
            "grid_template_rows": null,
            "height": null,
            "justify_content": null,
            "justify_items": null,
            "left": null,
            "margin": null,
            "max_height": null,
            "max_width": null,
            "min_height": null,
            "min_width": null,
            "object_fit": null,
            "object_position": null,
            "order": null,
            "overflow": null,
            "overflow_x": null,
            "overflow_y": null,
            "padding": null,
            "right": null,
            "top": null,
            "visibility": null,
            "width": null
          }
        },
        "5dfe8151cad54741ac061915050f7152": {
          "model_module": "@jupyter-widgets/controls",
          "model_module_version": "1.5.0",
          "model_name": "HTMLModel",
          "state": {
            "_dom_classes": [],
            "_model_module": "@jupyter-widgets/controls",
            "_model_module_version": "1.5.0",
            "_model_name": "HTMLModel",
            "_view_count": null,
            "_view_module": "@jupyter-widgets/controls",
            "_view_module_version": "1.5.0",
            "_view_name": "HTMLView",
            "description": "",
            "description_tooltip": null,
            "layout": "IPY_MODEL_81b3c7df01454523a15397aa2387be76",
            "placeholder": "​",
            "style": "IPY_MODEL_82bcf278569546d7a02dc1259f0ec7d0",
            "value": "model.safetensors: 100%"
          }
        },
        "6080f80851684ab6ab66a59432a5a344": {
          "model_module": "@jupyter-widgets/controls",
          "model_module_version": "1.5.0",
          "model_name": "HTMLModel",
          "state": {
            "_dom_classes": [],
            "_model_module": "@jupyter-widgets/controls",
            "_model_module_version": "1.5.0",
            "_model_name": "HTMLModel",
            "_view_count": null,
            "_view_module": "@jupyter-widgets/controls",
            "_view_module_version": "1.5.0",
            "_view_name": "HTMLView",
            "description": "",
            "description_tooltip": null,
            "layout": "IPY_MODEL_864a0a55a41f4bd18be18f7e869e59e4",
            "placeholder": "​",
            "style": "IPY_MODEL_249bedafe06a46758de2a82ac32eb5dc",
            "value": "Downloading builder script: "
          }
        },
        "630e44ae25b34a33ad20d068633cbc4c": {
          "model_module": "@jupyter-widgets/base",
          "model_module_version": "1.2.0",
          "model_name": "LayoutModel",
          "state": {
            "_model_module": "@jupyter-widgets/base",
            "_model_module_version": "1.2.0",
            "_model_name": "LayoutModel",
            "_view_count": null,
            "_view_module": "@jupyter-widgets/base",
            "_view_module_version": "1.2.0",
            "_view_name": "LayoutView",
            "align_content": null,
            "align_items": null,
            "align_self": null,
            "border": null,
            "bottom": null,
            "display": null,
            "flex": null,
            "flex_flow": null,
            "grid_area": null,
            "grid_auto_columns": null,
            "grid_auto_flow": null,
            "grid_auto_rows": null,
            "grid_column": null,
            "grid_gap": null,
            "grid_row": null,
            "grid_template_areas": null,
            "grid_template_columns": null,
            "grid_template_rows": null,
            "height": null,
            "justify_content": null,
            "justify_items": null,
            "left": null,
            "margin": null,
            "max_height": null,
            "max_width": null,
            "min_height": null,
            "min_width": null,
            "object_fit": null,
            "object_position": null,
            "order": null,
            "overflow": null,
            "overflow_x": null,
            "overflow_y": null,
            "padding": null,
            "right": null,
            "top": null,
            "visibility": null,
            "width": null
          }
        },
        "6371d49f49f24204abe7060291ba42f3": {
          "model_module": "@jupyter-widgets/controls",
          "model_module_version": "1.5.0",
          "model_name": "FloatProgressModel",
          "state": {
            "_dom_classes": [],
            "_model_module": "@jupyter-widgets/controls",
            "_model_module_version": "1.5.0",
            "_model_name": "FloatProgressModel",
            "_view_count": null,
            "_view_module": "@jupyter-widgets/controls",
            "_view_module_version": "1.5.0",
            "_view_name": "ProgressView",
            "bar_style": "success",
            "description": "",
            "description_tooltip": null,
            "layout": "IPY_MODEL_54c00bb5280649169f3fc3ad3d62fe6a",
            "max": 259,
            "min": 0,
            "orientation": "horizontal",
            "style": "IPY_MODEL_819623d0e34d45a49da369f03a97365c",
            "value": 259
          }
        },
        "6acad173e0804caa9e9490f216b853ff": {
          "model_module": "@jupyter-widgets/controls",
          "model_module_version": "1.5.0",
          "model_name": "HTMLModel",
          "state": {
            "_dom_classes": [],
            "_model_module": "@jupyter-widgets/controls",
            "_model_module_version": "1.5.0",
            "_model_name": "HTMLModel",
            "_view_count": null,
            "_view_module": "@jupyter-widgets/controls",
            "_view_module_version": "1.5.0",
            "_view_name": "HTMLView",
            "description": "",
            "description_tooltip": null,
            "layout": "IPY_MODEL_6f685bce85c64e29b81961b625670379",
            "placeholder": "​",
            "style": "IPY_MODEL_d0642348d55a4558aba01a76274921df",
            "value": "pytorch_model.bin: 100%"
          }
        },
        "6b5574e8d3444ad98fe6219011ebb3a6": {
          "model_module": "@jupyter-widgets/base",
          "model_module_version": "1.2.0",
          "model_name": "LayoutModel",
          "state": {
            "_model_module": "@jupyter-widgets/base",
            "_model_module_version": "1.2.0",
            "_model_name": "LayoutModel",
            "_view_count": null,
            "_view_module": "@jupyter-widgets/base",
            "_view_module_version": "1.2.0",
            "_view_name": "LayoutView",
            "align_content": null,
            "align_items": null,
            "align_self": null,
            "border": null,
            "bottom": null,
            "display": null,
            "flex": null,
            "flex_flow": null,
            "grid_area": null,
            "grid_auto_columns": null,
            "grid_auto_flow": null,
            "grid_auto_rows": null,
            "grid_column": null,
            "grid_gap": null,
            "grid_row": null,
            "grid_template_areas": null,
            "grid_template_columns": null,
            "grid_template_rows": null,
            "height": null,
            "justify_content": null,
            "justify_items": null,
            "left": null,
            "margin": null,
            "max_height": null,
            "max_width": null,
            "min_height": null,
            "min_width": null,
            "object_fit": null,
            "object_position": null,
            "order": null,
            "overflow": null,
            "overflow_x": null,
            "overflow_y": null,
            "padding": null,
            "right": null,
            "top": null,
            "visibility": null,
            "width": null
          }
        },
        "6f685bce85c64e29b81961b625670379": {
          "model_module": "@jupyter-widgets/base",
          "model_module_version": "1.2.0",
          "model_name": "LayoutModel",
          "state": {
            "_model_module": "@jupyter-widgets/base",
            "_model_module_version": "1.2.0",
            "_model_name": "LayoutModel",
            "_view_count": null,
            "_view_module": "@jupyter-widgets/base",
            "_view_module_version": "1.2.0",
            "_view_name": "LayoutView",
            "align_content": null,
            "align_items": null,
            "align_self": null,
            "border": null,
            "bottom": null,
            "display": null,
            "flex": null,
            "flex_flow": null,
            "grid_area": null,
            "grid_auto_columns": null,
            "grid_auto_flow": null,
            "grid_auto_rows": null,
            "grid_column": null,
            "grid_gap": null,
            "grid_row": null,
            "grid_template_areas": null,
            "grid_template_columns": null,
            "grid_template_rows": null,
            "height": null,
            "justify_content": null,
            "justify_items": null,
            "left": null,
            "margin": null,
            "max_height": null,
            "max_width": null,
            "min_height": null,
            "min_width": null,
            "object_fit": null,
            "object_position": null,
            "order": null,
            "overflow": null,
            "overflow_x": null,
            "overflow_y": null,
            "padding": null,
            "right": null,
            "top": null,
            "visibility": null,
            "width": null
          }
        },
        "71358ad1420448d4bd4d06b8093f2c81": {
          "model_module": "@jupyter-widgets/controls",
          "model_module_version": "1.5.0",
          "model_name": "HBoxModel",
          "state": {
            "_dom_classes": [],
            "_model_module": "@jupyter-widgets/controls",
            "_model_module_version": "1.5.0",
            "_model_name": "HBoxModel",
            "_view_count": null,
            "_view_module": "@jupyter-widgets/controls",
            "_view_module_version": "1.5.0",
            "_view_name": "HBoxView",
            "box_style": "",
            "children": [
              "IPY_MODEL_0aea5f9bf65840a4b0b23c11502d0355",
              "IPY_MODEL_8a8214ced6fe40d899598a639d75f660",
              "IPY_MODEL_5be8c0edf30d4c57a9f7cbeca6f3f9df"
            ],
            "layout": "IPY_MODEL_8c223057f8ae4abf8718d5e520d72891"
          }
        },
        "76491e3f0c774b3ea44390ca5e2c38ad": {
          "model_module": "@jupyter-widgets/base",
          "model_module_version": "1.2.0",
          "model_name": "LayoutModel",
          "state": {
            "_model_module": "@jupyter-widgets/base",
            "_model_module_version": "1.2.0",
            "_model_name": "LayoutModel",
            "_view_count": null,
            "_view_module": "@jupyter-widgets/base",
            "_view_module_version": "1.2.0",
            "_view_name": "LayoutView",
            "align_content": null,
            "align_items": null,
            "align_self": null,
            "border": null,
            "bottom": null,
            "display": null,
            "flex": null,
            "flex_flow": null,
            "grid_area": null,
            "grid_auto_columns": null,
            "grid_auto_flow": null,
            "grid_auto_rows": null,
            "grid_column": null,
            "grid_gap": null,
            "grid_row": null,
            "grid_template_areas": null,
            "grid_template_columns": null,
            "grid_template_rows": null,
            "height": null,
            "justify_content": null,
            "justify_items": null,
            "left": null,
            "margin": null,
            "max_height": null,
            "max_width": null,
            "min_height": null,
            "min_width": null,
            "object_fit": null,
            "object_position": null,
            "order": null,
            "overflow": null,
            "overflow_x": null,
            "overflow_y": null,
            "padding": null,
            "right": null,
            "top": null,
            "visibility": null,
            "width": null
          }
        },
        "784a3e18c1de438bbca23f4df2d066bf": {
          "model_module": "@jupyter-widgets/controls",
          "model_module_version": "1.5.0",
          "model_name": "DescriptionStyleModel",
          "state": {
            "_model_module": "@jupyter-widgets/controls",
            "_model_module_version": "1.5.0",
            "_model_name": "DescriptionStyleModel",
            "_view_count": null,
            "_view_module": "@jupyter-widgets/base",
            "_view_module_version": "1.2.0",
            "_view_name": "StyleView",
            "description_width": ""
          }
        },
        "7887051567ce4d0ead54bfe540f0345f": {
          "model_module": "@jupyter-widgets/controls",
          "model_module_version": "1.5.0",
          "model_name": "HTMLModel",
          "state": {
            "_dom_classes": [],
            "_model_module": "@jupyter-widgets/controls",
            "_model_module_version": "1.5.0",
            "_model_name": "HTMLModel",
            "_view_count": null,
            "_view_module": "@jupyter-widgets/controls",
            "_view_module_version": "1.5.0",
            "_view_name": "HTMLView",
            "description": "",
            "description_tooltip": null,
            "layout": "IPY_MODEL_c7d0c94a8e164cc289d85b615986dba0",
            "placeholder": "​",
            "style": "IPY_MODEL_aba029b9386b41c2827d0a46be60ceb9",
            "value": " 960/960 [00:12&lt;00:00, 76.80 examples/s]"
          }
        },
        "7ae03535006f4012a67e550c9a379561": {
          "model_module": "@jupyter-widgets/base",
          "model_module_version": "1.2.0",
          "model_name": "LayoutModel",
          "state": {
            "_model_module": "@jupyter-widgets/base",
            "_model_module_version": "1.2.0",
            "_model_name": "LayoutModel",
            "_view_count": null,
            "_view_module": "@jupyter-widgets/base",
            "_view_module_version": "1.2.0",
            "_view_name": "LayoutView",
            "align_content": null,
            "align_items": null,
            "align_self": null,
            "border": null,
            "bottom": null,
            "display": null,
            "flex": null,
            "flex_flow": null,
            "grid_area": null,
            "grid_auto_columns": null,
            "grid_auto_flow": null,
            "grid_auto_rows": null,
            "grid_column": null,
            "grid_gap": null,
            "grid_row": null,
            "grid_template_areas": null,
            "grid_template_columns": null,
            "grid_template_rows": null,
            "height": null,
            "justify_content": null,
            "justify_items": null,
            "left": null,
            "margin": null,
            "max_height": null,
            "max_width": null,
            "min_height": null,
            "min_width": null,
            "object_fit": null,
            "object_position": null,
            "order": null,
            "overflow": null,
            "overflow_x": null,
            "overflow_y": null,
            "padding": null,
            "right": null,
            "top": null,
            "visibility": null,
            "width": null
          }
        },
        "7bfe9584a74e40acb23b3ac13c46267d": {
          "model_module": "@jupyter-widgets/controls",
          "model_module_version": "1.5.0",
          "model_name": "HTMLModel",
          "state": {
            "_dom_classes": [],
            "_model_module": "@jupyter-widgets/controls",
            "_model_module_version": "1.5.0",
            "_model_name": "HTMLModel",
            "_view_count": null,
            "_view_module": "@jupyter-widgets/controls",
            "_view_module_version": "1.5.0",
            "_view_name": "HTMLView",
            "description": "",
            "description_tooltip": null,
            "layout": "IPY_MODEL_1cb2d0ec1bdf4b2bba836bd84cd07fbe",
            "placeholder": "​",
            "style": "IPY_MODEL_784a3e18c1de438bbca23f4df2d066bf",
            "value": " 240/240 [00:02&lt;00:00, 81.46 examples/s]"
          }
        },
        "7e20ebeaeeaa475e9b72dc034250cf67": {
          "model_module": "@jupyter-widgets/controls",
          "model_module_version": "1.5.0",
          "model_name": "HTMLModel",
          "state": {
            "_dom_classes": [],
            "_model_module": "@jupyter-widgets/controls",
            "_model_module_version": "1.5.0",
            "_model_name": "HTMLModel",
            "_view_count": null,
            "_view_module": "@jupyter-widgets/controls",
            "_view_module_version": "1.5.0",
            "_view_name": "HTMLView",
            "description": "",
            "description_tooltip": null,
            "layout": "IPY_MODEL_0f26eebd6b4447e6872fdb88ca12d005",
            "placeholder": "​",
            "style": "IPY_MODEL_9d988cca61924d7683d86cf778046a79",
            "value": "generation_config.json: 100%"
          }
        },
        "7faab00611914cfea7b56bedd3d2eec8": {
          "model_module": "@jupyter-widgets/base",
          "model_module_version": "1.2.0",
          "model_name": "LayoutModel",
          "state": {
            "_model_module": "@jupyter-widgets/base",
            "_model_module_version": "1.2.0",
            "_model_name": "LayoutModel",
            "_view_count": null,
            "_view_module": "@jupyter-widgets/base",
            "_view_module_version": "1.2.0",
            "_view_name": "LayoutView",
            "align_content": null,
            "align_items": null,
            "align_self": null,
            "border": null,
            "bottom": null,
            "display": null,
            "flex": null,
            "flex_flow": null,
            "grid_area": null,
            "grid_auto_columns": null,
            "grid_auto_flow": null,
            "grid_auto_rows": null,
            "grid_column": null,
            "grid_gap": null,
            "grid_row": null,
            "grid_template_areas": null,
            "grid_template_columns": null,
            "grid_template_rows": null,
            "height": null,
            "justify_content": null,
            "justify_items": null,
            "left": null,
            "margin": null,
            "max_height": null,
            "max_width": null,
            "min_height": null,
            "min_width": null,
            "object_fit": null,
            "object_position": null,
            "order": null,
            "overflow": null,
            "overflow_x": null,
            "overflow_y": null,
            "padding": null,
            "right": null,
            "top": null,
            "visibility": null,
            "width": null
          }
        },
        "819623d0e34d45a49da369f03a97365c": {
          "model_module": "@jupyter-widgets/controls",
          "model_module_version": "1.5.0",
          "model_name": "ProgressStyleModel",
          "state": {
            "_model_module": "@jupyter-widgets/controls",
            "_model_module_version": "1.5.0",
            "_model_name": "ProgressStyleModel",
            "_view_count": null,
            "_view_module": "@jupyter-widgets/base",
            "_view_module_version": "1.2.0",
            "_view_name": "StyleView",
            "bar_color": null,
            "description_width": ""
          }
        },
        "81b3c7df01454523a15397aa2387be76": {
          "model_module": "@jupyter-widgets/base",
          "model_module_version": "1.2.0",
          "model_name": "LayoutModel",
          "state": {
            "_model_module": "@jupyter-widgets/base",
            "_model_module_version": "1.2.0",
            "_model_name": "LayoutModel",
            "_view_count": null,
            "_view_module": "@jupyter-widgets/base",
            "_view_module_version": "1.2.0",
            "_view_name": "LayoutView",
            "align_content": null,
            "align_items": null,
            "align_self": null,
            "border": null,
            "bottom": null,
            "display": null,
            "flex": null,
            "flex_flow": null,
            "grid_area": null,
            "grid_auto_columns": null,
            "grid_auto_flow": null,
            "grid_auto_rows": null,
            "grid_column": null,
            "grid_gap": null,
            "grid_row": null,
            "grid_template_areas": null,
            "grid_template_columns": null,
            "grid_template_rows": null,
            "height": null,
            "justify_content": null,
            "justify_items": null,
            "left": null,
            "margin": null,
            "max_height": null,
            "max_width": null,
            "min_height": null,
            "min_width": null,
            "object_fit": null,
            "object_position": null,
            "order": null,
            "overflow": null,
            "overflow_x": null,
            "overflow_y": null,
            "padding": null,
            "right": null,
            "top": null,
            "visibility": null,
            "width": null
          }
        },
        "82bcf278569546d7a02dc1259f0ec7d0": {
          "model_module": "@jupyter-widgets/controls",
          "model_module_version": "1.5.0",
          "model_name": "DescriptionStyleModel",
          "state": {
            "_model_module": "@jupyter-widgets/controls",
            "_model_module_version": "1.5.0",
            "_model_name": "DescriptionStyleModel",
            "_view_count": null,
            "_view_module": "@jupyter-widgets/base",
            "_view_module_version": "1.2.0",
            "_view_name": "StyleView",
            "description_width": ""
          }
        },
        "845b9d351fbe498e9c84b646c483ea2b": {
          "model_module": "@jupyter-widgets/controls",
          "model_module_version": "1.5.0",
          "model_name": "HTMLModel",
          "state": {
            "_dom_classes": [],
            "_model_module": "@jupyter-widgets/controls",
            "_model_module_version": "1.5.0",
            "_model_name": "HTMLModel",
            "_view_count": null,
            "_view_module": "@jupyter-widgets/controls",
            "_view_module_version": "1.5.0",
            "_view_name": "HTMLView",
            "description": "",
            "description_tooltip": null,
            "layout": "IPY_MODEL_b7924468306d4a8989b2cdf29f9b7892",
            "placeholder": "​",
            "style": "IPY_MODEL_a2ebda5cd5634c73b28f8fdfbefb4206",
            "value": " 2.28G/2.28G [00:39&lt;00:00, 28.0MB/s]"
          }
        },
        "848d1e4f20114659b70a899a21556c59": {
          "model_module": "@jupyter-widgets/base",
          "model_module_version": "1.2.0",
          "model_name": "LayoutModel",
          "state": {
            "_model_module": "@jupyter-widgets/base",
            "_model_module_version": "1.2.0",
            "_model_name": "LayoutModel",
            "_view_count": null,
            "_view_module": "@jupyter-widgets/base",
            "_view_module_version": "1.2.0",
            "_view_name": "LayoutView",
            "align_content": null,
            "align_items": null,
            "align_self": null,
            "border": null,
            "bottom": null,
            "display": null,
            "flex": null,
            "flex_flow": null,
            "grid_area": null,
            "grid_auto_columns": null,
            "grid_auto_flow": null,
            "grid_auto_rows": null,
            "grid_column": null,
            "grid_gap": null,
            "grid_row": null,
            "grid_template_areas": null,
            "grid_template_columns": null,
            "grid_template_rows": null,
            "height": null,
            "justify_content": null,
            "justify_items": null,
            "left": null,
            "margin": null,
            "max_height": null,
            "max_width": null,
            "min_height": null,
            "min_width": null,
            "object_fit": null,
            "object_position": null,
            "order": null,
            "overflow": null,
            "overflow_x": null,
            "overflow_y": null,
            "padding": null,
            "right": null,
            "top": null,
            "visibility": null,
            "width": null
          }
        },
        "8611250ff4ca498583d8ef8dd3acbce4": {
          "model_module": "@jupyter-widgets/controls",
          "model_module_version": "1.5.0",
          "model_name": "DescriptionStyleModel",
          "state": {
            "_model_module": "@jupyter-widgets/controls",
            "_model_module_version": "1.5.0",
            "_model_name": "DescriptionStyleModel",
            "_view_count": null,
            "_view_module": "@jupyter-widgets/base",
            "_view_module_version": "1.2.0",
            "_view_name": "StyleView",
            "description_width": ""
          }
        },
        "864a0a55a41f4bd18be18f7e869e59e4": {
          "model_module": "@jupyter-widgets/base",
          "model_module_version": "1.2.0",
          "model_name": "LayoutModel",
          "state": {
            "_model_module": "@jupyter-widgets/base",
            "_model_module_version": "1.2.0",
            "_model_name": "LayoutModel",
            "_view_count": null,
            "_view_module": "@jupyter-widgets/base",
            "_view_module_version": "1.2.0",
            "_view_name": "LayoutView",
            "align_content": null,
            "align_items": null,
            "align_self": null,
            "border": null,
            "bottom": null,
            "display": null,
            "flex": null,
            "flex_flow": null,
            "grid_area": null,
            "grid_auto_columns": null,
            "grid_auto_flow": null,
            "grid_auto_rows": null,
            "grid_column": null,
            "grid_gap": null,
            "grid_row": null,
            "grid_template_areas": null,
            "grid_template_columns": null,
            "grid_template_rows": null,
            "height": null,
            "justify_content": null,
            "justify_items": null,
            "left": null,
            "margin": null,
            "max_height": null,
            "max_width": null,
            "min_height": null,
            "min_width": null,
            "object_fit": null,
            "object_position": null,
            "order": null,
            "overflow": null,
            "overflow_x": null,
            "overflow_y": null,
            "padding": null,
            "right": null,
            "top": null,
            "visibility": null,
            "width": null
          }
        },
        "8814bbda9fdc47f8bc2107fb32f46847": {
          "model_module": "@jupyter-widgets/controls",
          "model_module_version": "1.5.0",
          "model_name": "ProgressStyleModel",
          "state": {
            "_model_module": "@jupyter-widgets/controls",
            "_model_module_version": "1.5.0",
            "_model_name": "ProgressStyleModel",
            "_view_count": null,
            "_view_module": "@jupyter-widgets/base",
            "_view_module_version": "1.2.0",
            "_view_name": "StyleView",
            "bar_color": null,
            "description_width": ""
          }
        },
        "899c2ca910c540d79ace03cf2b0bbedd": {
          "model_module": "@jupyter-widgets/base",
          "model_module_version": "1.2.0",
          "model_name": "LayoutModel",
          "state": {
            "_model_module": "@jupyter-widgets/base",
            "_model_module_version": "1.2.0",
            "_model_name": "LayoutModel",
            "_view_count": null,
            "_view_module": "@jupyter-widgets/base",
            "_view_module_version": "1.2.0",
            "_view_name": "LayoutView",
            "align_content": null,
            "align_items": null,
            "align_self": null,
            "border": null,
            "bottom": null,
            "display": null,
            "flex": null,
            "flex_flow": null,
            "grid_area": null,
            "grid_auto_columns": null,
            "grid_auto_flow": null,
            "grid_auto_rows": null,
            "grid_column": null,
            "grid_gap": null,
            "grid_row": null,
            "grid_template_areas": null,
            "grid_template_columns": null,
            "grid_template_rows": null,
            "height": null,
            "justify_content": null,
            "justify_items": null,
            "left": null,
            "margin": null,
            "max_height": null,
            "max_width": null,
            "min_height": null,
            "min_width": null,
            "object_fit": null,
            "object_position": null,
            "order": null,
            "overflow": null,
            "overflow_x": null,
            "overflow_y": null,
            "padding": null,
            "right": null,
            "top": null,
            "visibility": null,
            "width": null
          }
        },
        "8a1b3e70731e42a6a275e21d482985ea": {
          "model_module": "@jupyter-widgets/base",
          "model_module_version": "1.2.0",
          "model_name": "LayoutModel",
          "state": {
            "_model_module": "@jupyter-widgets/base",
            "_model_module_version": "1.2.0",
            "_model_name": "LayoutModel",
            "_view_count": null,
            "_view_module": "@jupyter-widgets/base",
            "_view_module_version": "1.2.0",
            "_view_name": "LayoutView",
            "align_content": null,
            "align_items": null,
            "align_self": null,
            "border": null,
            "bottom": null,
            "display": null,
            "flex": null,
            "flex_flow": null,
            "grid_area": null,
            "grid_auto_columns": null,
            "grid_auto_flow": null,
            "grid_auto_rows": null,
            "grid_column": null,
            "grid_gap": null,
            "grid_row": null,
            "grid_template_areas": null,
            "grid_template_columns": null,
            "grid_template_rows": null,
            "height": null,
            "justify_content": null,
            "justify_items": null,
            "left": null,
            "margin": null,
            "max_height": null,
            "max_width": null,
            "min_height": null,
            "min_width": null,
            "object_fit": null,
            "object_position": null,
            "order": null,
            "overflow": null,
            "overflow_x": null,
            "overflow_y": null,
            "padding": null,
            "right": null,
            "top": null,
            "visibility": null,
            "width": null
          }
        },
        "8a8214ced6fe40d899598a639d75f660": {
          "model_module": "@jupyter-widgets/controls",
          "model_module_version": "1.5.0",
          "model_name": "FloatProgressModel",
          "state": {
            "_dom_classes": [],
            "_model_module": "@jupyter-widgets/controls",
            "_model_module_version": "1.5.0",
            "_model_name": "FloatProgressModel",
            "_view_count": null,
            "_view_module": "@jupyter-widgets/controls",
            "_view_module_version": "1.5.0",
            "_view_name": "ProgressView",
            "bar_style": "success",
            "description": "",
            "description_tooltip": null,
            "layout": "IPY_MODEL_fcd44f1c643949ffbde45bea82f95ff0",
            "max": 240,
            "min": 0,
            "orientation": "horizontal",
            "style": "IPY_MODEL_afd88069a9584b629c82c9c940213223",
            "value": 240
          }
        },
        "8ba43347511848099e808ea02c9ac4cb": {
          "model_module": "@jupyter-widgets/controls",
          "model_module_version": "1.5.0",
          "model_name": "HBoxModel",
          "state": {
            "_dom_classes": [],
            "_model_module": "@jupyter-widgets/controls",
            "_model_module_version": "1.5.0",
            "_model_name": "HBoxModel",
            "_view_count": null,
            "_view_module": "@jupyter-widgets/controls",
            "_view_module_version": "1.5.0",
            "_view_name": "HBoxView",
            "box_style": "",
            "children": [
              "IPY_MODEL_27e1bdece2ec436b80029129f82d0e8b",
              "IPY_MODEL_b7b9fd7097aa4cac9c026c9ef4b076af",
              "IPY_MODEL_8d55c3fc16a34aeab0de362d42326006"
            ],
            "layout": "IPY_MODEL_1c85459b504b4bd5a196b40716a8864b"
          }
        },
        "8c223057f8ae4abf8718d5e520d72891": {
          "model_module": "@jupyter-widgets/base",
          "model_module_version": "1.2.0",
          "model_name": "LayoutModel",
          "state": {
            "_model_module": "@jupyter-widgets/base",
            "_model_module_version": "1.2.0",
            "_model_name": "LayoutModel",
            "_view_count": null,
            "_view_module": "@jupyter-widgets/base",
            "_view_module_version": "1.2.0",
            "_view_name": "LayoutView",
            "align_content": null,
            "align_items": null,
            "align_self": null,
            "border": null,
            "bottom": null,
            "display": null,
            "flex": null,
            "flex_flow": null,
            "grid_area": null,
            "grid_auto_columns": null,
            "grid_auto_flow": null,
            "grid_auto_rows": null,
            "grid_column": null,
            "grid_gap": null,
            "grid_row": null,
            "grid_template_areas": null,
            "grid_template_columns": null,
            "grid_template_rows": null,
            "height": null,
            "justify_content": null,
            "justify_items": null,
            "left": null,
            "margin": null,
            "max_height": null,
            "max_width": null,
            "min_height": null,
            "min_width": null,
            "object_fit": null,
            "object_position": null,
            "order": null,
            "overflow": null,
            "overflow_x": null,
            "overflow_y": null,
            "padding": null,
            "right": null,
            "top": null,
            "visibility": null,
            "width": null
          }
        },
        "8d4693d8641a4ae0b8df2902e535191a": {
          "model_module": "@jupyter-widgets/controls",
          "model_module_version": "1.5.0",
          "model_name": "HTMLModel",
          "state": {
            "_dom_classes": [],
            "_model_module": "@jupyter-widgets/controls",
            "_model_module_version": "1.5.0",
            "_model_name": "HTMLModel",
            "_view_count": null,
            "_view_module": "@jupyter-widgets/controls",
            "_view_module_version": "1.5.0",
            "_view_name": "HTMLView",
            "description": "",
            "description_tooltip": null,
            "layout": "IPY_MODEL_8a1b3e70731e42a6a275e21d482985ea",
            "placeholder": "​",
            "style": "IPY_MODEL_ad7d8aadd2e44d0695c65838d8739848",
            "value": " 5.65k/? [00:00&lt;00:00, 149kB/s]"
          }
        },
        "8d55c3fc16a34aeab0de362d42326006": {
          "model_module": "@jupyter-widgets/controls",
          "model_module_version": "1.5.0",
          "model_name": "HTMLModel",
          "state": {
            "_dom_classes": [],
            "_model_module": "@jupyter-widgets/controls",
            "_model_module_version": "1.5.0",
            "_model_name": "HTMLModel",
            "_view_count": null,
            "_view_module": "@jupyter-widgets/controls",
            "_view_module_version": "1.5.0",
            "_view_name": "HTMLView",
            "description": "",
            "description_tooltip": null,
            "layout": "IPY_MODEL_899c2ca910c540d79ace03cf2b0bbedd",
            "placeholder": "​",
            "style": "IPY_MODEL_5a239b4b694044249cfded716e5698d3",
            "value": " 960/960 [00:13&lt;00:00, 72.59 examples/s]"
          }
        },
        "98b91320b6344fcabd012924467b07d6": {
          "model_module": "@jupyter-widgets/base",
          "model_module_version": "1.2.0",
          "model_name": "LayoutModel",
          "state": {
            "_model_module": "@jupyter-widgets/base",
            "_model_module_version": "1.2.0",
            "_model_name": "LayoutModel",
            "_view_count": null,
            "_view_module": "@jupyter-widgets/base",
            "_view_module_version": "1.2.0",
            "_view_name": "LayoutView",
            "align_content": null,
            "align_items": null,
            "align_self": null,
            "border": null,
            "bottom": null,
            "display": null,
            "flex": null,
            "flex_flow": null,
            "grid_area": null,
            "grid_auto_columns": null,
            "grid_auto_flow": null,
            "grid_auto_rows": null,
            "grid_column": null,
            "grid_gap": null,
            "grid_row": null,
            "grid_template_areas": null,
            "grid_template_columns": null,
            "grid_template_rows": null,
            "height": null,
            "justify_content": null,
            "justify_items": null,
            "left": null,
            "margin": null,
            "max_height": null,
            "max_width": null,
            "min_height": null,
            "min_width": null,
            "object_fit": null,
            "object_position": null,
            "order": null,
            "overflow": null,
            "overflow_x": null,
            "overflow_y": null,
            "padding": null,
            "right": null,
            "top": null,
            "visibility": null,
            "width": null
          }
        },
        "9d0d4c9801ce44a3a726fdf23b2dae89": {
          "model_module": "@jupyter-widgets/controls",
          "model_module_version": "1.5.0",
          "model_name": "HBoxModel",
          "state": {
            "_dom_classes": [],
            "_model_module": "@jupyter-widgets/controls",
            "_model_module_version": "1.5.0",
            "_model_name": "HBoxModel",
            "_view_count": null,
            "_view_module": "@jupyter-widgets/controls",
            "_view_module_version": "1.5.0",
            "_view_name": "HBoxView",
            "box_style": "",
            "children": [
              "IPY_MODEL_5dfe8151cad54741ac061915050f7152",
              "IPY_MODEL_1e8d5b4f15044491ba7ef59971fea091",
              "IPY_MODEL_845b9d351fbe498e9c84b646c483ea2b"
            ],
            "layout": "IPY_MODEL_27ffc49aec9f4acc991db921db95b3e1"
          }
        },
        "9d988cca61924d7683d86cf778046a79": {
          "model_module": "@jupyter-widgets/controls",
          "model_module_version": "1.5.0",
          "model_name": "DescriptionStyleModel",
          "state": {
            "_model_module": "@jupyter-widgets/controls",
            "_model_module_version": "1.5.0",
            "_model_name": "DescriptionStyleModel",
            "_view_count": null,
            "_view_module": "@jupyter-widgets/base",
            "_view_module_version": "1.2.0",
            "_view_name": "StyleView",
            "description_width": ""
          }
        },
        "a02d65ded8b243a28cb8009266ee26ec": {
          "model_module": "@jupyter-widgets/controls",
          "model_module_version": "1.5.0",
          "model_name": "HBoxModel",
          "state": {
            "_dom_classes": [],
            "_model_module": "@jupyter-widgets/controls",
            "_model_module_version": "1.5.0",
            "_model_name": "HBoxModel",
            "_view_count": null,
            "_view_module": "@jupyter-widgets/controls",
            "_view_module_version": "1.5.0",
            "_view_name": "HBoxView",
            "box_style": "",
            "children": [
              "IPY_MODEL_fa552bc33e1849519e3491b19f1a8099",
              "IPY_MODEL_0b736cdd1de44c82b4cbdf3035ebe77c",
              "IPY_MODEL_7bfe9584a74e40acb23b3ac13c46267d"
            ],
            "layout": "IPY_MODEL_021c688b18ca459a874d1ef39f49a434"
          }
        },
        "a2ebda5cd5634c73b28f8fdfbefb4206": {
          "model_module": "@jupyter-widgets/controls",
          "model_module_version": "1.5.0",
          "model_name": "DescriptionStyleModel",
          "state": {
            "_model_module": "@jupyter-widgets/controls",
            "_model_module_version": "1.5.0",
            "_model_name": "DescriptionStyleModel",
            "_view_count": null,
            "_view_module": "@jupyter-widgets/base",
            "_view_module_version": "1.2.0",
            "_view_name": "StyleView",
            "description_width": ""
          }
        },
        "a35d56a1ecab438fb2b58972a71140cb": {
          "model_module": "@jupyter-widgets/controls",
          "model_module_version": "1.5.0",
          "model_name": "DescriptionStyleModel",
          "state": {
            "_model_module": "@jupyter-widgets/controls",
            "_model_module_version": "1.5.0",
            "_model_name": "DescriptionStyleModel",
            "_view_count": null,
            "_view_module": "@jupyter-widgets/base",
            "_view_module_version": "1.2.0",
            "_view_name": "StyleView",
            "description_width": ""
          }
        },
        "a75b0d4513b9442f8069db017b72e0c9": {
          "model_module": "@jupyter-widgets/base",
          "model_module_version": "1.2.0",
          "model_name": "LayoutModel",
          "state": {
            "_model_module": "@jupyter-widgets/base",
            "_model_module_version": "1.2.0",
            "_model_name": "LayoutModel",
            "_view_count": null,
            "_view_module": "@jupyter-widgets/base",
            "_view_module_version": "1.2.0",
            "_view_name": "LayoutView",
            "align_content": null,
            "align_items": null,
            "align_self": null,
            "border": null,
            "bottom": null,
            "display": null,
            "flex": null,
            "flex_flow": null,
            "grid_area": null,
            "grid_auto_columns": null,
            "grid_auto_flow": null,
            "grid_auto_rows": null,
            "grid_column": null,
            "grid_gap": null,
            "grid_row": null,
            "grid_template_areas": null,
            "grid_template_columns": null,
            "grid_template_rows": null,
            "height": null,
            "justify_content": null,
            "justify_items": null,
            "left": null,
            "margin": null,
            "max_height": null,
            "max_width": null,
            "min_height": null,
            "min_width": null,
            "object_fit": null,
            "object_position": null,
            "order": null,
            "overflow": null,
            "overflow_x": null,
            "overflow_y": null,
            "padding": null,
            "right": null,
            "top": null,
            "visibility": null,
            "width": null
          }
        },
        "aba029b9386b41c2827d0a46be60ceb9": {
          "model_module": "@jupyter-widgets/controls",
          "model_module_version": "1.5.0",
          "model_name": "DescriptionStyleModel",
          "state": {
            "_model_module": "@jupyter-widgets/controls",
            "_model_module_version": "1.5.0",
            "_model_name": "DescriptionStyleModel",
            "_view_count": null,
            "_view_module": "@jupyter-widgets/base",
            "_view_module_version": "1.2.0",
            "_view_name": "StyleView",
            "description_width": ""
          }
        },
        "ad7d8aadd2e44d0695c65838d8739848": {
          "model_module": "@jupyter-widgets/controls",
          "model_module_version": "1.5.0",
          "model_name": "DescriptionStyleModel",
          "state": {
            "_model_module": "@jupyter-widgets/controls",
            "_model_module_version": "1.5.0",
            "_model_name": "DescriptionStyleModel",
            "_view_count": null,
            "_view_module": "@jupyter-widgets/base",
            "_view_module_version": "1.2.0",
            "_view_name": "StyleView",
            "description_width": ""
          }
        },
        "afd88069a9584b629c82c9c940213223": {
          "model_module": "@jupyter-widgets/controls",
          "model_module_version": "1.5.0",
          "model_name": "ProgressStyleModel",
          "state": {
            "_model_module": "@jupyter-widgets/controls",
            "_model_module_version": "1.5.0",
            "_model_name": "ProgressStyleModel",
            "_view_count": null,
            "_view_module": "@jupyter-widgets/base",
            "_view_module_version": "1.2.0",
            "_view_name": "StyleView",
            "bar_color": null,
            "description_width": ""
          }
        },
        "b27a48122f36410dab4ce128a60dc0b2": {
          "model_module": "@jupyter-widgets/base",
          "model_module_version": "1.2.0",
          "model_name": "LayoutModel",
          "state": {
            "_model_module": "@jupyter-widgets/base",
            "_model_module_version": "1.2.0",
            "_model_name": "LayoutModel",
            "_view_count": null,
            "_view_module": "@jupyter-widgets/base",
            "_view_module_version": "1.2.0",
            "_view_name": "LayoutView",
            "align_content": null,
            "align_items": null,
            "align_self": null,
            "border": null,
            "bottom": null,
            "display": null,
            "flex": null,
            "flex_flow": null,
            "grid_area": null,
            "grid_auto_columns": null,
            "grid_auto_flow": null,
            "grid_auto_rows": null,
            "grid_column": null,
            "grid_gap": null,
            "grid_row": null,
            "grid_template_areas": null,
            "grid_template_columns": null,
            "grid_template_rows": null,
            "height": null,
            "justify_content": null,
            "justify_items": null,
            "left": null,
            "margin": null,
            "max_height": null,
            "max_width": null,
            "min_height": null,
            "min_width": null,
            "object_fit": null,
            "object_position": null,
            "order": null,
            "overflow": null,
            "overflow_x": null,
            "overflow_y": null,
            "padding": null,
            "right": null,
            "top": null,
            "visibility": null,
            "width": null
          }
        },
        "b7924468306d4a8989b2cdf29f9b7892": {
          "model_module": "@jupyter-widgets/base",
          "model_module_version": "1.2.0",
          "model_name": "LayoutModel",
          "state": {
            "_model_module": "@jupyter-widgets/base",
            "_model_module_version": "1.2.0",
            "_model_name": "LayoutModel",
            "_view_count": null,
            "_view_module": "@jupyter-widgets/base",
            "_view_module_version": "1.2.0",
            "_view_name": "LayoutView",
            "align_content": null,
            "align_items": null,
            "align_self": null,
            "border": null,
            "bottom": null,
            "display": null,
            "flex": null,
            "flex_flow": null,
            "grid_area": null,
            "grid_auto_columns": null,
            "grid_auto_flow": null,
            "grid_auto_rows": null,
            "grid_column": null,
            "grid_gap": null,
            "grid_row": null,
            "grid_template_areas": null,
            "grid_template_columns": null,
            "grid_template_rows": null,
            "height": null,
            "justify_content": null,
            "justify_items": null,
            "left": null,
            "margin": null,
            "max_height": null,
            "max_width": null,
            "min_height": null,
            "min_width": null,
            "object_fit": null,
            "object_position": null,
            "order": null,
            "overflow": null,
            "overflow_x": null,
            "overflow_y": null,
            "padding": null,
            "right": null,
            "top": null,
            "visibility": null,
            "width": null
          }
        },
        "b7b9fd7097aa4cac9c026c9ef4b076af": {
          "model_module": "@jupyter-widgets/controls",
          "model_module_version": "1.5.0",
          "model_name": "FloatProgressModel",
          "state": {
            "_dom_classes": [],
            "_model_module": "@jupyter-widgets/controls",
            "_model_module_version": "1.5.0",
            "_model_name": "FloatProgressModel",
            "_view_count": null,
            "_view_module": "@jupyter-widgets/controls",
            "_view_module_version": "1.5.0",
            "_view_name": "ProgressView",
            "bar_style": "success",
            "description": "",
            "description_tooltip": null,
            "layout": "IPY_MODEL_f9bbe8f81d6b4e659e61a22df1221eb8",
            "max": 960,
            "min": 0,
            "orientation": "horizontal",
            "style": "IPY_MODEL_fe0fa2dbe30b4621af2279bc8eb54f5a",
            "value": 960
          }
        },
        "b99c35b53f3c4a46ac1034991e96f0b7": {
          "model_module": "@jupyter-widgets/controls",
          "model_module_version": "1.5.0",
          "model_name": "FloatProgressModel",
          "state": {
            "_dom_classes": [],
            "_model_module": "@jupyter-widgets/controls",
            "_model_module_version": "1.5.0",
            "_model_name": "FloatProgressModel",
            "_view_count": null,
            "_view_module": "@jupyter-widgets/controls",
            "_view_module_version": "1.5.0",
            "_view_name": "ProgressView",
            "bar_style": "success",
            "description": "",
            "description_tooltip": null,
            "layout": "IPY_MODEL_98b91320b6344fcabd012924467b07d6",
            "max": 2169,
            "min": 0,
            "orientation": "horizontal",
            "style": "IPY_MODEL_23b57f271c7f4dfe97da15581b0598a7",
            "value": 2169
          }
        },
        "c07ea6364dc644098af6a5453940f595": {
          "model_module": "@jupyter-widgets/controls",
          "model_module_version": "1.5.0",
          "model_name": "HBoxModel",
          "state": {
            "_dom_classes": [],
            "_model_module": "@jupyter-widgets/controls",
            "_model_module_version": "1.5.0",
            "_model_name": "HBoxModel",
            "_view_count": null,
            "_view_module": "@jupyter-widgets/controls",
            "_view_module_version": "1.5.0",
            "_view_name": "HBoxView",
            "box_style": "",
            "children": [
              "IPY_MODEL_7e20ebeaeeaa475e9b72dc034250cf67",
              "IPY_MODEL_6371d49f49f24204abe7060291ba42f3",
              "IPY_MODEL_1c822737133f4135b5863c094994ef53"
            ],
            "layout": "IPY_MODEL_f64a270395ca4aed9d1db05ff9fa6b9a"
          }
        },
        "c7d0c94a8e164cc289d85b615986dba0": {
          "model_module": "@jupyter-widgets/base",
          "model_module_version": "1.2.0",
          "model_name": "LayoutModel",
          "state": {
            "_model_module": "@jupyter-widgets/base",
            "_model_module_version": "1.2.0",
            "_model_name": "LayoutModel",
            "_view_count": null,
            "_view_module": "@jupyter-widgets/base",
            "_view_module_version": "1.2.0",
            "_view_name": "LayoutView",
            "align_content": null,
            "align_items": null,
            "align_self": null,
            "border": null,
            "bottom": null,
            "display": null,
            "flex": null,
            "flex_flow": null,
            "grid_area": null,
            "grid_auto_columns": null,
            "grid_auto_flow": null,
            "grid_auto_rows": null,
            "grid_column": null,
            "grid_gap": null,
            "grid_row": null,
            "grid_template_areas": null,
            "grid_template_columns": null,
            "grid_template_rows": null,
            "height": null,
            "justify_content": null,
            "justify_items": null,
            "left": null,
            "margin": null,
            "max_height": null,
            "max_width": null,
            "min_height": null,
            "min_width": null,
            "object_fit": null,
            "object_position": null,
            "order": null,
            "overflow": null,
            "overflow_x": null,
            "overflow_y": null,
            "padding": null,
            "right": null,
            "top": null,
            "visibility": null,
            "width": null
          }
        },
        "d0642348d55a4558aba01a76274921df": {
          "model_module": "@jupyter-widgets/controls",
          "model_module_version": "1.5.0",
          "model_name": "DescriptionStyleModel",
          "state": {
            "_model_module": "@jupyter-widgets/controls",
            "_model_module_version": "1.5.0",
            "_model_name": "DescriptionStyleModel",
            "_view_count": null,
            "_view_module": "@jupyter-widgets/base",
            "_view_module_version": "1.2.0",
            "_view_name": "StyleView",
            "description_width": ""
          }
        },
        "eec6af9efaf048a9b92397944f7e3c58": {
          "model_module": "@jupyter-widgets/controls",
          "model_module_version": "1.5.0",
          "model_name": "HBoxModel",
          "state": {
            "_dom_classes": [],
            "_model_module": "@jupyter-widgets/controls",
            "_model_module_version": "1.5.0",
            "_model_name": "HBoxModel",
            "_view_count": null,
            "_view_module": "@jupyter-widgets/controls",
            "_view_module_version": "1.5.0",
            "_view_name": "HBoxView",
            "box_style": "",
            "children": [
              "IPY_MODEL_6080f80851684ab6ab66a59432a5a344",
              "IPY_MODEL_b99c35b53f3c4a46ac1034991e96f0b7",
              "IPY_MODEL_8d4693d8641a4ae0b8df2902e535191a"
            ],
            "layout": "IPY_MODEL_5da935d0678e4dcdb7c8416650a3393f"
          }
        },
        "f07475fdc8b64c1abf96695b6217c354": {
          "model_module": "@jupyter-widgets/controls",
          "model_module_version": "1.5.0",
          "model_name": "FloatProgressModel",
          "state": {
            "_dom_classes": [],
            "_model_module": "@jupyter-widgets/controls",
            "_model_module_version": "1.5.0",
            "_model_name": "FloatProgressModel",
            "_view_count": null,
            "_view_module": "@jupyter-widgets/controls",
            "_view_module_version": "1.5.0",
            "_view_name": "ProgressView",
            "bar_style": "success",
            "description": "",
            "description_tooltip": null,
            "layout": "IPY_MODEL_76491e3f0c774b3ea44390ca5e2c38ad",
            "max": 2275329241,
            "min": 0,
            "orientation": "horizontal",
            "style": "IPY_MODEL_16d3c3d9af3843be9d259af0dc4fc5ec",
            "value": 2275329241
          }
        },
        "f578c80e0d57413bad1d3e334dc0a4d8": {
          "model_module": "@jupyter-widgets/base",
          "model_module_version": "1.2.0",
          "model_name": "LayoutModel",
          "state": {
            "_model_module": "@jupyter-widgets/base",
            "_model_module_version": "1.2.0",
            "_model_name": "LayoutModel",
            "_view_count": null,
            "_view_module": "@jupyter-widgets/base",
            "_view_module_version": "1.2.0",
            "_view_name": "LayoutView",
            "align_content": null,
            "align_items": null,
            "align_self": null,
            "border": null,
            "bottom": null,
            "display": null,
            "flex": null,
            "flex_flow": null,
            "grid_area": null,
            "grid_auto_columns": null,
            "grid_auto_flow": null,
            "grid_auto_rows": null,
            "grid_column": null,
            "grid_gap": null,
            "grid_row": null,
            "grid_template_areas": null,
            "grid_template_columns": null,
            "grid_template_rows": null,
            "height": null,
            "justify_content": null,
            "justify_items": null,
            "left": null,
            "margin": null,
            "max_height": null,
            "max_width": null,
            "min_height": null,
            "min_width": null,
            "object_fit": null,
            "object_position": null,
            "order": null,
            "overflow": null,
            "overflow_x": null,
            "overflow_y": null,
            "padding": null,
            "right": null,
            "top": null,
            "visibility": null,
            "width": null
          }
        },
        "f64a270395ca4aed9d1db05ff9fa6b9a": {
          "model_module": "@jupyter-widgets/base",
          "model_module_version": "1.2.0",
          "model_name": "LayoutModel",
          "state": {
            "_model_module": "@jupyter-widgets/base",
            "_model_module_version": "1.2.0",
            "_model_name": "LayoutModel",
            "_view_count": null,
            "_view_module": "@jupyter-widgets/base",
            "_view_module_version": "1.2.0",
            "_view_name": "LayoutView",
            "align_content": null,
            "align_items": null,
            "align_self": null,
            "border": null,
            "bottom": null,
            "display": null,
            "flex": null,
            "flex_flow": null,
            "grid_area": null,
            "grid_auto_columns": null,
            "grid_auto_flow": null,
            "grid_auto_rows": null,
            "grid_column": null,
            "grid_gap": null,
            "grid_row": null,
            "grid_template_areas": null,
            "grid_template_columns": null,
            "grid_template_rows": null,
            "height": null,
            "justify_content": null,
            "justify_items": null,
            "left": null,
            "margin": null,
            "max_height": null,
            "max_width": null,
            "min_height": null,
            "min_width": null,
            "object_fit": null,
            "object_position": null,
            "order": null,
            "overflow": null,
            "overflow_x": null,
            "overflow_y": null,
            "padding": null,
            "right": null,
            "top": null,
            "visibility": null,
            "width": null
          }
        },
        "f961f90cdfdb4a85a2d971d2f120a190": {
          "model_module": "@jupyter-widgets/base",
          "model_module_version": "1.2.0",
          "model_name": "LayoutModel",
          "state": {
            "_model_module": "@jupyter-widgets/base",
            "_model_module_version": "1.2.0",
            "_model_name": "LayoutModel",
            "_view_count": null,
            "_view_module": "@jupyter-widgets/base",
            "_view_module_version": "1.2.0",
            "_view_name": "LayoutView",
            "align_content": null,
            "align_items": null,
            "align_self": null,
            "border": null,
            "bottom": null,
            "display": null,
            "flex": null,
            "flex_flow": null,
            "grid_area": null,
            "grid_auto_columns": null,
            "grid_auto_flow": null,
            "grid_auto_rows": null,
            "grid_column": null,
            "grid_gap": null,
            "grid_row": null,
            "grid_template_areas": null,
            "grid_template_columns": null,
            "grid_template_rows": null,
            "height": null,
            "justify_content": null,
            "justify_items": null,
            "left": null,
            "margin": null,
            "max_height": null,
            "max_width": null,
            "min_height": null,
            "min_width": null,
            "object_fit": null,
            "object_position": null,
            "order": null,
            "overflow": null,
            "overflow_x": null,
            "overflow_y": null,
            "padding": null,
            "right": null,
            "top": null,
            "visibility": null,
            "width": null
          }
        },
        "f9bbe8f81d6b4e659e61a22df1221eb8": {
          "model_module": "@jupyter-widgets/base",
          "model_module_version": "1.2.0",
          "model_name": "LayoutModel",
          "state": {
            "_model_module": "@jupyter-widgets/base",
            "_model_module_version": "1.2.0",
            "_model_name": "LayoutModel",
            "_view_count": null,
            "_view_module": "@jupyter-widgets/base",
            "_view_module_version": "1.2.0",
            "_view_name": "LayoutView",
            "align_content": null,
            "align_items": null,
            "align_self": null,
            "border": null,
            "bottom": null,
            "display": null,
            "flex": null,
            "flex_flow": null,
            "grid_area": null,
            "grid_auto_columns": null,
            "grid_auto_flow": null,
            "grid_auto_rows": null,
            "grid_column": null,
            "grid_gap": null,
            "grid_row": null,
            "grid_template_areas": null,
            "grid_template_columns": null,
            "grid_template_rows": null,
            "height": null,
            "justify_content": null,
            "justify_items": null,
            "left": null,
            "margin": null,
            "max_height": null,
            "max_width": null,
            "min_height": null,
            "min_width": null,
            "object_fit": null,
            "object_position": null,
            "order": null,
            "overflow": null,
            "overflow_x": null,
            "overflow_y": null,
            "padding": null,
            "right": null,
            "top": null,
            "visibility": null,
            "width": null
          }
        },
        "fa552bc33e1849519e3491b19f1a8099": {
          "model_module": "@jupyter-widgets/controls",
          "model_module_version": "1.5.0",
          "model_name": "HTMLModel",
          "state": {
            "_dom_classes": [],
            "_model_module": "@jupyter-widgets/controls",
            "_model_module_version": "1.5.0",
            "_model_name": "HTMLModel",
            "_view_count": null,
            "_view_module": "@jupyter-widgets/controls",
            "_view_module_version": "1.5.0",
            "_view_name": "HTMLView",
            "description": "",
            "description_tooltip": null,
            "layout": "IPY_MODEL_7ae03535006f4012a67e550c9a379561",
            "placeholder": "​",
            "style": "IPY_MODEL_10c5683f3e6c4914899c3045ff3b7715",
            "value": "Map: 100%"
          }
        },
        "fcd44f1c643949ffbde45bea82f95ff0": {
          "model_module": "@jupyter-widgets/base",
          "model_module_version": "1.2.0",
          "model_name": "LayoutModel",
          "state": {
            "_model_module": "@jupyter-widgets/base",
            "_model_module_version": "1.2.0",
            "_model_name": "LayoutModel",
            "_view_count": null,
            "_view_module": "@jupyter-widgets/base",
            "_view_module_version": "1.2.0",
            "_view_name": "LayoutView",
            "align_content": null,
            "align_items": null,
            "align_self": null,
            "border": null,
            "bottom": null,
            "display": null,
            "flex": null,
            "flex_flow": null,
            "grid_area": null,
            "grid_auto_columns": null,
            "grid_auto_flow": null,
            "grid_auto_rows": null,
            "grid_column": null,
            "grid_gap": null,
            "grid_row": null,
            "grid_template_areas": null,
            "grid_template_columns": null,
            "grid_template_rows": null,
            "height": null,
            "justify_content": null,
            "justify_items": null,
            "left": null,
            "margin": null,
            "max_height": null,
            "max_width": null,
            "min_height": null,
            "min_width": null,
            "object_fit": null,
            "object_position": null,
            "order": null,
            "overflow": null,
            "overflow_x": null,
            "overflow_y": null,
            "padding": null,
            "right": null,
            "top": null,
            "visibility": null,
            "width": null
          }
        },
        "fd7f30e96fab4909836f92aafd66135b": {
          "model_module": "@jupyter-widgets/controls",
          "model_module_version": "1.5.0",
          "model_name": "HBoxModel",
          "state": {
            "_dom_classes": [],
            "_model_module": "@jupyter-widgets/controls",
            "_model_module_version": "1.5.0",
            "_model_name": "HBoxModel",
            "_view_count": null,
            "_view_module": "@jupyter-widgets/controls",
            "_view_module_version": "1.5.0",
            "_view_name": "HBoxView",
            "box_style": "",
            "children": [
              "IPY_MODEL_0120afaa381942d98af36e0d3f82937b",
              "IPY_MODEL_0136f9a186dd463b90b71b88bf0d328f",
              "IPY_MODEL_7887051567ce4d0ead54bfe540f0345f"
            ],
            "layout": "IPY_MODEL_7faab00611914cfea7b56bedd3d2eec8"
          }
        },
        "fe0fa2dbe30b4621af2279bc8eb54f5a": {
          "model_module": "@jupyter-widgets/controls",
          "model_module_version": "1.5.0",
          "model_name": "ProgressStyleModel",
          "state": {
            "_model_module": "@jupyter-widgets/controls",
            "_model_module_version": "1.5.0",
            "_model_name": "ProgressStyleModel",
            "_view_count": null,
            "_view_module": "@jupyter-widgets/base",
            "_view_module_version": "1.2.0",
            "_view_name": "StyleView",
            "bar_color": null,
            "description_width": ""
          }
        }
      }
    }
  },
  "nbformat": 4,
  "nbformat_minor": 5
}
