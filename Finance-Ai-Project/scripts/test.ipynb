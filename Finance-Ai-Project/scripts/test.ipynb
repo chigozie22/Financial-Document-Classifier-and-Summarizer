{
 "cells": [
  {
   "cell_type": "code",
   "execution_count": 2,
   "id": "ba4422ae",
   "metadata": {},
   "outputs": [],
   "source": [
    "from transformers import AutoModelForSeq2SeqLM, AutoTokenizer\n",
    "import torch "
   ]
  },
  {
   "cell_type": "code",
   "execution_count": 4,
   "id": "abced940",
   "metadata": {},
   "outputs": [],
   "source": [
    "path  = \"/home/nonso/ai-multimodal-learning-project/Finance-Ai-Project/outputs/models/summarizer_model\""
   ]
  },
  {
   "cell_type": "code",
   "execution_count": 5,
   "id": "6b34f69b",
   "metadata": {},
   "outputs": [
    {
     "name": "stderr",
     "output_type": "stream",
     "text": [
      "/home/nonso/ai-multimodal-learning-project/venv/lib/python3.12/site-packages/transformers/models/bart/configuration_bart.py:176: UserWarning: Please make sure the config includes `forced_bos_token_id=0` in future versions. The config can simply be saved and uploaded again to be fixed.\n",
      "  warnings.warn(\n"
     ]
    }
   ],
   "source": [
    "model = AutoModelForSeq2SeqLM.from_pretrained(path)\n",
    "tokenizer = AutoTokenizer.from_pretrained(path)"
   ]
  },
  {
   "cell_type": "code",
   "execution_count": 6,
   "id": "0964f775",
   "metadata": {},
   "outputs": [
    {
     "data": {
      "text/plain": [
       "BartForConditionalGeneration(\n",
       "  (model): BartModel(\n",
       "    (shared): BartScaledWordEmbedding(50264, 1024, padding_idx=1)\n",
       "    (encoder): BartEncoder(\n",
       "      (embed_tokens): BartScaledWordEmbedding(50264, 1024, padding_idx=1)\n",
       "      (embed_positions): BartLearnedPositionalEmbedding(1026, 1024)\n",
       "      (layers): ModuleList(\n",
       "        (0-11): 12 x BartEncoderLayer(\n",
       "          (self_attn): BartSdpaAttention(\n",
       "            (k_proj): Linear(in_features=1024, out_features=1024, bias=True)\n",
       "            (v_proj): Linear(in_features=1024, out_features=1024, bias=True)\n",
       "            (q_proj): Linear(in_features=1024, out_features=1024, bias=True)\n",
       "            (out_proj): Linear(in_features=1024, out_features=1024, bias=True)\n",
       "          )\n",
       "          (self_attn_layer_norm): LayerNorm((1024,), eps=1e-05, elementwise_affine=True)\n",
       "          (activation_fn): GELUActivation()\n",
       "          (fc1): Linear(in_features=1024, out_features=4096, bias=True)\n",
       "          (fc2): Linear(in_features=4096, out_features=1024, bias=True)\n",
       "          (final_layer_norm): LayerNorm((1024,), eps=1e-05, elementwise_affine=True)\n",
       "        )\n",
       "      )\n",
       "      (layernorm_embedding): LayerNorm((1024,), eps=1e-05, elementwise_affine=True)\n",
       "    )\n",
       "    (decoder): BartDecoder(\n",
       "      (embed_tokens): BartScaledWordEmbedding(50264, 1024, padding_idx=1)\n",
       "      (embed_positions): BartLearnedPositionalEmbedding(1026, 1024)\n",
       "      (layers): ModuleList(\n",
       "        (0-5): 6 x BartDecoderLayer(\n",
       "          (self_attn): BartSdpaAttention(\n",
       "            (k_proj): Linear(in_features=1024, out_features=1024, bias=True)\n",
       "            (v_proj): Linear(in_features=1024, out_features=1024, bias=True)\n",
       "            (q_proj): Linear(in_features=1024, out_features=1024, bias=True)\n",
       "            (out_proj): Linear(in_features=1024, out_features=1024, bias=True)\n",
       "          )\n",
       "          (activation_fn): GELUActivation()\n",
       "          (self_attn_layer_norm): LayerNorm((1024,), eps=1e-05, elementwise_affine=True)\n",
       "          (encoder_attn): BartSdpaAttention(\n",
       "            (k_proj): Linear(in_features=1024, out_features=1024, bias=True)\n",
       "            (v_proj): Linear(in_features=1024, out_features=1024, bias=True)\n",
       "            (q_proj): Linear(in_features=1024, out_features=1024, bias=True)\n",
       "            (out_proj): Linear(in_features=1024, out_features=1024, bias=True)\n",
       "          )\n",
       "          (encoder_attn_layer_norm): LayerNorm((1024,), eps=1e-05, elementwise_affine=True)\n",
       "          (fc1): Linear(in_features=1024, out_features=4096, bias=True)\n",
       "          (fc2): Linear(in_features=4096, out_features=1024, bias=True)\n",
       "          (final_layer_norm): LayerNorm((1024,), eps=1e-05, elementwise_affine=True)\n",
       "        )\n",
       "      )\n",
       "      (layernorm_embedding): LayerNorm((1024,), eps=1e-05, elementwise_affine=True)\n",
       "    )\n",
       "  )\n",
       "  (lm_head): Linear(in_features=1024, out_features=50264, bias=False)\n",
       ")"
      ]
     },
     "execution_count": 6,
     "metadata": {},
     "output_type": "execute_result"
    }
   ],
   "source": [
    "device = torch.device(\"cuda\" if torch.cuda.is_available() else \"cpu\")\n",
    "model.to(device)\n",
    "model.eval()\n"
   ]
  },
  {
   "cell_type": "code",
   "execution_count": 9,
   "id": "a5363119",
   "metadata": {},
   "outputs": [],
   "source": [
    "text = \"\"\"million from the issuance of 4,419,641 shares of its common stock to third parties to allow gaea to continue to advance its \n",
    "investment strategy . \n",
    "we retained a 23.2 % ownership interest in gaea following \n",
    "the transaction . at december 31 , 2020 we own approximately \n",
    "23.0 % of gaea and is no longer consolidated in our financial \n",
    "statements . we elected to be taxed as a reit for u.s. federal \n",
    "income tax purposes beginning with our taxable year ended december 31 , 2014. \n",
    "our qualification as a reit depends upon our ability to meet , on a continuing basis , \n",
    "various complex requirements under the code relating to , among other things , the sources of our gross income , \n",
    "the composition and values of our assets ,\n",
    "our distribution levels and the diversity of ownership of our capital stock . \n",
    "we believe that we are organized in conformity with the requirements for qualification as a reit under the code , \n",
    "and that our current intended manner of operation enables us to meet the requirements for taxation as a reit for u.s. federal income tax purposes . our portfolio  \n",
    "the following table outlines the carrying value of our portfolio of mortgage loan assets and single-family and smaller commercial properties as of december 31 , 2020 \n",
    "and december 31 , 2019 ( $ in millions ) : replace_table_token_4_th we closely monitor the status of our mortgage loans and,  \n",
    "through our servicer , work with our borrowers to improve their payment records. market trends and outlook covid-19 the covid-19 pandemic that began during the first quarter  \n",
    "of 2020 created a global public-health crisis that resulted in widespread volatility and \n",
    "deteriorations in household , business \n",
    ",and economic market conditions , including in the united states , \n",
    "where we conduct all of our business . during 2020 many governmental and nongovernmental \n",
    "authorities directed their actions toward curtailing household and business activity in order to contain \n",
    "or mitigate the impact of the covid-19 pandemic and deployed fiscal- and monetary-policy measures in order  \n",
    "to seek to partially mitigate the adverse effects . these programs have had varying degrees of success and the extent of the long term impact on the mortgage market remains unknown . the covid-19 pandemic began to meaningfully impact our \n",
    "operations in late march 2020 and this disruption was \n",
    "reflected in our results of operations for the quarter  \n",
    "ended march 31 , 2020. since then many of these negative impacts have improved throughout 2020 , as follows \n",
    ": we recorded net recovery of credit loss provisions of $ 10.8 million on our mortgage loan portfolio and investments in \n",
    "beneficial interests during the year ended december 31 , 2020. we recorded total expense of $ 5.1 million for provision for anticipated credit \n",
    "losses on our mortgage loan portfolio and investments in beneficial interests during the three months ended march 31 , 2020 , as a result of expectations of extended portfolio durations and longer foreclosure and eviction \n",
    "timelines . however , during the remainder of 2020 we recovered $ 15.9 million in credit loss provisions on 47 these portfolios which was \n",
    "as a result of better than expected loan performance and the related positive impact \n",
    "on future repayments . we recorded a net $ 0.9 million of unrealized losses on our investments in debt securities \n",
    "to other comprehensive income during the year ended december 31 , 2020. we recorded $ 28.4 million in unrealized losses on our  \n",
    "investments in debt securities to other comprehensive income for the three months ended march 31 , 2020. however , during \n",
    "the remainder of 2020 we recovered $ 27.5 million of those unrealized losses . during the course of the year , we \n",
    "settled net margin calls in the amount of $ 0.5 million with our repurchase financing counterparties during the year ended december 31 , 2020. for the three months ended march 31 , \n",
    "2020 we settled $ 28.2 million of net margins calls with our repurchase financing counterparties \n",
    "due to the extreme disruption in the residential mortgage securities market from the covid-19 pandemic , and since then have recovered $ 27.7 million of cash deposits on a net basis from our repurchase financing counterparties as collateral prices rebounded off the march 31 , 2020 levels . \n",
    "the pandemic has continued and continues to significantly and adversely impact certain areas of the united states . as a result , our forecast of macroeconomic conditions and expected lifetime credit losses on our mortgage loan and beneficial interest portfolios is subject to meaningful uncertainty . while substantially all of our borrowers continue to make scheduled payments and we continue to receive payments in full , we have acted swiftly to support our borrowers with a mortgage forbearance program . while we generally do not hold loans guaranteed by gses or the us government , we , through our servicer , are nonetheless offering a forbearance program under terms similar to those required for gse loans . borrowers that are able to provide documentation of a negative impact of covid-19 are entitled to three months of forbearance . the three monthly payments may then be repaid over 12 months . if a borrower can not repay the deferred amount , our servicer will work with them on repayment options . notwithstanding the foregoing , to the extent special rules apply to a mortgagor because of the jurisdiction or type of the mortgage loan , the servicer will comply with those rules . our servicer has extensive experience dealing with delinquent borrowers and we believe it is well positioned to react on our behalf to any increase in mortgage delinquencies . story_separator_special_tag conversely , decreases in interest rates , in general , may over time cause : ( a ) prepayments on our mortgage loan and mbs portfolio to increase , thereby accelerating the accretion of our purchase discounts ; ( b ) the value of our mortgage loan and mbs portfolio to increase ; ( c ) coupons on our arm and hybrid arm mortgage loans and mbs to reset , although on a delayed basis , to lower interest rates ; ( d ) the interest expense associated with our borrowings to decrease ; and ( e ) to the extent we enter into interest rate swap agreements as part of our hedging strategy , the value of these agreements to decrease . we currently expect the pace of loan prepayments to slow due to the covid-19 outbreak . market conditions . due to the dramatic repricing of real estate assets that occurred during the 2008 financial crisis and the continuing uncertainty regarding the direction and strength of the real estate markets including as a result of the pandemic , we believe a void in the debt and equity capital available for investing in real estate exists as many financial institutions , insurance companies , finance companies and fund managers have determined to reduce or discontinue investment in debt or equity related to real estate . we believe the dislocations in the residential real estate market have resulted or will result in an “ over-correction ” in the repricing of real estate assets , creating a potential opportunity for us to capitalize on these market dislocations and capital void to the extent we are able to obtain financing for additional purchases . we believe that in spite of the continuing uncertain market environment for mortgage-related assets , including as a result of the pandemic outbreak , current market conditions offer potentially attractive investment opportunities for us , even in the face of a riskier and more volatile market environment . we expect that market conditions will continue to impact our operating results and will cause us to adjust our investment and financing strategies over time as new opportunities emerge and risk profiles of our business change . covid-19 pandemic . the pandemic has also impacted , and is likely to continue to impact , directly or indirectly , many of the other factors discussed above , as well as other aspects of our business . new developments continue to emerge and it is not possible for us to predict with certainty which factors will impact our business . in addition , we can not assess the impact of each factor on our business or the extent to which any factor , or combination of factors , may cause actual results to differ materially from those contained in any forward-looking statements . in particular , it is difficult to fully assess the impact of the pandemic at this time due to , among other things , uncertainty regarding the severity and duration of the outbreak domestically and internationally and the effectiveness of federal , state and local government efforts to contain the spread of covid-19 , the effects of those efforts on our business , the indirect impact on the u.s. economy and economic activity and the impact on the mortgage markets and capital markets . critical accounting policies and estimates certain of our critical accounting policies require management to make estimates and assumptions  \n",
    "that affect the reported amounts of assets and liabilities at the date of the consolidated financial statements and the reported amounts of revenues and expenses during the reporting period . actual results could differ from those estimates . we consider significant estimates to include expected cash flows from mortgage loans and fair value measurements . we believe that all of the decisions 51 and assessments upon which our consolidated financial statements are and will be based were or will be reasonable at the time made based upon information available to us at that time . we have identified our most critical accounting policies to be the accounting policies associated with our mortgage-related assets and our borrowings . mortgage loans purchased credit deteriorated loans ( `` pcd loans `` ) — as of their acquisition date , the loans we acquired have generally suffered some credit deterioration subsequent to origination . as a result , prior to the adoption of asu 2016-13 , financial instruments - credit losses , otherwise known as cecl , on january 1 , 2020 , we were required to account for the mortgage loans pursuant to asc 310-30 , accounting for loans with deterioration in credit quality . under both standards , our recognition of interest income for pcd loans is based upon our having a reasonable expectation of the amount and timing of the cash flows expected to be collected . when the timing and amount of cash flows expected to be collected are reasonably estimable , we use expected cash flows to apply the effective interest method of income recognition . under both cecl and asc 310-30 , acquired loans may be aggregated and accounted for as a pool of loans if the loans have common risk characteristics . a pool is accounted for as a single asset with a single composite interest rate and an aggregate expectation of cash flows . however , cecl allows more flexibility to us to adjust its loan pools as the underlying risk factors change over time . under asc 310-30 , rpls were determined by us to have common risk characteristics and were accounted for as a single loan pool for loans acquired within each three-month calendar quarter . similarly , npls were determined to have common risk characteristics and were accounted for as a single non-performing pool for loans acquired within each three-month calendar quarter . the result was generally two additional pools ( rpls and npls ) each quarter . under cecl , we have re-aggregated our loan pools around similar risk\n",
    "\"\"\""
   ]
  },
  {
   "cell_type": "code",
   "execution_count": 13,
   "id": "165f73a5",
   "metadata": {},
   "outputs": [],
   "source": [
    "with torch.no_grad():\n",
    "    input = tokenizer(text, return_tensors=\"pt\", padding=True, truncation=True, max_length=512).to(device)\n",
    "    summary_id = model.generate(**input, max_new_tokens=128)"
   ]
  },
  {
   "cell_type": "code",
   "execution_count": 14,
   "id": "ab6bf4b3",
   "metadata": {},
   "outputs": [
    {
     "name": "stdout",
     "output_type": "stream",
     "text": [
      "\n"
     ]
    }
   ],
   "source": [
    "print(tokenizer.decode(summary_id[0], skip_special_tokens=True))"
   ]
  },
  {
   "cell_type": "code",
   "execution_count": null,
   "id": "5bbaf2fc",
   "metadata": {},
   "outputs": [],
   "source": []
  }
 ],
 "metadata": {
  "kernelspec": {
   "display_name": "venv",
   "language": "python",
   "name": "python3"
  },
  "language_info": {
   "codemirror_mode": {
    "name": "ipython",
    "version": 3
   },
   "file_extension": ".py",
   "mimetype": "text/x-python",
   "name": "python",
   "nbconvert_exporter": "python",
   "pygments_lexer": "ipython3",
   "version": "3.12.3"
  }
 },
 "nbformat": 4,
 "nbformat_minor": 5
}
